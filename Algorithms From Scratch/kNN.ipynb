{
 "cells": [
  {
   "cell_type": "code",
   "execution_count": 1,
   "id": "d2812194",
   "metadata": {
    "ExecuteTime": {
     "end_time": "2022-10-29T02:51:32.392128Z",
     "start_time": "2022-10-29T02:51:32.388255Z"
    }
   },
   "outputs": [],
   "source": [
    "#\n",
    "# David Laziuk\n",
    "# kNN algorithm from scratch\n",
    "#"
   ]
  },
  {
   "cell_type": "code",
   "execution_count": 2,
   "id": "0f39f20b",
   "metadata": {
    "ExecuteTime": {
     "end_time": "2022-10-29T02:51:33.086140Z",
     "start_time": "2022-10-29T02:51:33.082117Z"
    }
   },
   "outputs": [],
   "source": [
    "#Defining Distance Function (l2)\n",
    "def dist(r1,r2):\n",
    "    temp=0\n",
    "    for i in range(1,r1.shape[0]-1): #1 to length-1 to only take features into calculation\n",
    "        temp+=((r1[i]-r2[i])**2)\n",
    "    return np.sqrt(temp)"
   ]
  },
  {
   "cell_type": "code",
   "execution_count": 3,
   "id": "f3f4a3ca",
   "metadata": {
    "ExecuteTime": {
     "end_time": "2022-10-29T02:51:33.863243Z",
     "start_time": "2022-10-29T02:51:33.855871Z"
    }
   },
   "outputs": [],
   "source": [
    "#Defining kNN\n",
    "def kNN(r1,data,k):\n",
    "    #Calculating distances from test row to all train rows\n",
    "    distances=np.zeros((data.shape[0],2))\n",
    "    for i in range(data.shape[0]):\n",
    "        distances[i,0]=dist(r1,data.iloc[i,:])#Storing Distance\n",
    "        distances[i,1]=data.iloc[i,10]#Storing Class\n",
    "    distances=pd.DataFrame(distances)\n",
    "    ds=distances.sort_values(by=0).reset_index(drop=True)#Sorting by distance\n",
    "    #Counting class of nearest neighbors\n",
    "    c2=0\n",
    "    c4=0\n",
    "    for i in range(k):\n",
    "        if(ds.iloc[i,1]==2):\n",
    "            c2+=1\n",
    "        else:\n",
    "            c4+=1\n",
    "    #Returning most frequent class of neighbor\n",
    "    if(c2>c4):\n",
    "        return 2\n",
    "    else:\n",
    "        return 4 #if 2s=4s, 4 will be predicted (Rather have a false-positive)"
   ]
  },
  {
   "cell_type": "code",
   "execution_count": 200,
   "id": "66d89ccf",
   "metadata": {},
   "outputs": [],
   "source": [
    "#Imports\n",
    "import numpy as np\n",
    "import pandas as pd\n",
    "#Loading data\n",
    "data=pd.read_csv('breast-cancer-wisconsin.csv',na_values= \"?\")\n",
    "#Dropping rows with NAs\n",
    "data=data.dropna()\n",
    "#Shuffling entries\n",
    "data = data.sample(frac=1).reset_index(drop=True)\n",
    "#70/30 split into train/test data\n",
    "train_size=int(np.floor(data.shape[0]*.7))\n",
    "train=data.iloc[0:train_size,:]\n",
    "test=data.iloc[train_size:,:]"
   ]
  },
  {
   "cell_type": "code",
   "execution_count": 201,
   "id": "c7fab2b6",
   "metadata": {},
   "outputs": [
    {
     "name": "stdout",
     "output_type": "stream",
     "text": [
      "k=3 Accuracy: 0.9561\n",
      "k=5 Accuracy: 0.9659\n",
      "k=10 Accuracy: 0.961\n"
     ]
    }
   ],
   "source": [
    "#Testing\n",
    "ks=np.array((3,5,10))\n",
    "for k in range(len(ks)):\n",
    "    count=0\n",
    "    #Count sucessful predictions\n",
    "    for i in range(test.shape[0]):\n",
    "        pred=kNN(test.iloc[i,:],train,ks[k])\n",
    "        if(pred==test.iloc[i,10]):\n",
    "            count+=1\n",
    "    #Print accuracy\n",
    "    print(\"k=\"+str(ks[k])+\" Accuracy: \"+str(round(count/test.shape[0],4)))"
   ]
  },
  {
   "cell_type": "code",
   "execution_count": null,
   "id": "49fdea3b",
   "metadata": {},
   "outputs": [],
   "source": []
  }
 ],
 "metadata": {
  "kernelspec": {
   "display_name": "Python 3 (ipykernel)",
   "language": "python",
   "name": "python3"
  },
  "language_info": {
   "codemirror_mode": {
    "name": "ipython",
    "version": 3
   },
   "file_extension": ".py",
   "mimetype": "text/x-python",
   "name": "python",
   "nbconvert_exporter": "python",
   "pygments_lexer": "ipython3",
   "version": "3.9.12"
  },
  "varInspector": {
   "cols": {
    "lenName": 16,
    "lenType": 16,
    "lenVar": 40
   },
   "kernels_config": {
    "python": {
     "delete_cmd_postfix": "",
     "delete_cmd_prefix": "del ",
     "library": "var_list.py",
     "varRefreshCmd": "print(var_dic_list())"
    },
    "r": {
     "delete_cmd_postfix": ") ",
     "delete_cmd_prefix": "rm(",
     "library": "var_list.r",
     "varRefreshCmd": "cat(var_dic_list()) "
    }
   },
   "types_to_exclude": [
    "module",
    "function",
    "builtin_function_or_method",
    "instance",
    "_Feature"
   ],
   "window_display": false
  }
 },
 "nbformat": 4,
 "nbformat_minor": 5
}
