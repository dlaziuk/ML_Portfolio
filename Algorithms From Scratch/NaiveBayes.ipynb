{
 "cells": [
  {
   "cell_type": "code",
   "execution_count": 1,
   "id": "67e13971",
   "metadata": {
    "ExecuteTime": {
     "end_time": "2022-11-11T20:58:32.750044Z",
     "start_time": "2022-11-11T20:58:32.747612Z"
    }
   },
   "outputs": [],
   "source": [
    "#\n",
    "# David Laziuk\n",
    "# Naive Bayes algorithm from scratch\n",
    "#"
   ]
  },
  {
   "cell_type": "code",
   "execution_count": 2,
   "id": "cc150842",
   "metadata": {
    "ExecuteTime": {
     "end_time": "2022-11-11T20:58:34.814648Z",
     "start_time": "2022-11-11T20:58:32.772304Z"
    }
   },
   "outputs": [],
   "source": [
    "#Imports\n",
    "import math\n",
    "import numpy as np\n",
    "import pandas as pd"
   ]
  },
  {
   "cell_type": "code",
   "execution_count": 3,
   "id": "c8060e65",
   "metadata": {
    "ExecuteTime": {
     "end_time": "2022-11-11T20:58:36.441333Z",
     "start_time": "2022-11-11T20:58:36.415510Z"
    }
   },
   "outputs": [
    {
     "name": "stdout",
     "output_type": "stream",
     "text": [
      "Original Shape: (683, 10)\n"
     ]
    },
    {
     "data": {
      "text/html": [
       "<div>\n",
       "<style scoped>\n",
       "    .dataframe tbody tr th:only-of-type {\n",
       "        vertical-align: middle;\n",
       "    }\n",
       "\n",
       "    .dataframe tbody tr th {\n",
       "        vertical-align: top;\n",
       "    }\n",
       "\n",
       "    .dataframe thead th {\n",
       "        text-align: right;\n",
       "    }\n",
       "</style>\n",
       "<table border=\"1\" class=\"dataframe\">\n",
       "  <thead>\n",
       "    <tr style=\"text-align: right;\">\n",
       "      <th></th>\n",
       "      <th>F1</th>\n",
       "      <th>F2</th>\n",
       "      <th>F3</th>\n",
       "      <th>F4</th>\n",
       "      <th>F5</th>\n",
       "      <th>F6</th>\n",
       "      <th>F7</th>\n",
       "      <th>F8</th>\n",
       "      <th>F9</th>\n",
       "      <th>Class</th>\n",
       "    </tr>\n",
       "  </thead>\n",
       "  <tbody>\n",
       "    <tr>\n",
       "      <th>0</th>\n",
       "      <td>5</td>\n",
       "      <td>1</td>\n",
       "      <td>1</td>\n",
       "      <td>1</td>\n",
       "      <td>2</td>\n",
       "      <td>1.0</td>\n",
       "      <td>3</td>\n",
       "      <td>1</td>\n",
       "      <td>1</td>\n",
       "      <td>2</td>\n",
       "    </tr>\n",
       "    <tr>\n",
       "      <th>1</th>\n",
       "      <td>5</td>\n",
       "      <td>4</td>\n",
       "      <td>4</td>\n",
       "      <td>5</td>\n",
       "      <td>7</td>\n",
       "      <td>10.0</td>\n",
       "      <td>3</td>\n",
       "      <td>2</td>\n",
       "      <td>1</td>\n",
       "      <td>2</td>\n",
       "    </tr>\n",
       "    <tr>\n",
       "      <th>2</th>\n",
       "      <td>3</td>\n",
       "      <td>1</td>\n",
       "      <td>1</td>\n",
       "      <td>1</td>\n",
       "      <td>2</td>\n",
       "      <td>2.0</td>\n",
       "      <td>3</td>\n",
       "      <td>1</td>\n",
       "      <td>1</td>\n",
       "      <td>2</td>\n",
       "    </tr>\n",
       "    <tr>\n",
       "      <th>3</th>\n",
       "      <td>6</td>\n",
       "      <td>8</td>\n",
       "      <td>8</td>\n",
       "      <td>1</td>\n",
       "      <td>3</td>\n",
       "      <td>4.0</td>\n",
       "      <td>3</td>\n",
       "      <td>7</td>\n",
       "      <td>1</td>\n",
       "      <td>2</td>\n",
       "    </tr>\n",
       "    <tr>\n",
       "      <th>4</th>\n",
       "      <td>4</td>\n",
       "      <td>1</td>\n",
       "      <td>1</td>\n",
       "      <td>3</td>\n",
       "      <td>2</td>\n",
       "      <td>1.0</td>\n",
       "      <td>3</td>\n",
       "      <td>1</td>\n",
       "      <td>1</td>\n",
       "      <td>2</td>\n",
       "    </tr>\n",
       "  </tbody>\n",
       "</table>\n",
       "</div>"
      ],
      "text/plain": [
       "   F1  F2  F3  F4  F5    F6  F7  F8  F9  Class\n",
       "0   5   1   1   1   2   1.0   3   1   1      2\n",
       "1   5   4   4   5   7  10.0   3   2   1      2\n",
       "2   3   1   1   1   2   2.0   3   1   1      2\n",
       "3   6   8   8   1   3   4.0   3   7   1      2\n",
       "4   4   1   1   3   2   1.0   3   1   1      2"
      ]
     },
     "execution_count": 3,
     "metadata": {},
     "output_type": "execute_result"
    }
   ],
   "source": [
    "data=pd.read_csv('breast-cancer-wisconsin.csv',na_values= \"?\")\n",
    "#Dropping rows with NAs\n",
    "data=data.dropna()\n",
    "#Dropping Sample ID Column\n",
    "data=data.iloc[:,1:]\n",
    "print(\"Original Shape: \"+str(data.shape))\n",
    "data.head()"
   ]
  },
  {
   "cell_type": "code",
   "execution_count": 4,
   "id": "b7182552",
   "metadata": {
    "ExecuteTime": {
     "end_time": "2022-11-11T20:58:40.211317Z",
     "start_time": "2022-11-11T20:58:40.208187Z"
    }
   },
   "outputs": [],
   "source": [
    "#Data is already in a normal range"
   ]
  },
  {
   "cell_type": "code",
   "execution_count": 5,
   "id": "dba8451d",
   "metadata": {
    "ExecuteTime": {
     "end_time": "2022-11-11T20:58:42.364225Z",
     "start_time": "2022-11-11T20:58:42.359004Z"
    }
   },
   "outputs": [],
   "source": [
    "#Shuffling Entries\n",
    "data=data.sample(frac=1).reset_index(drop=True)\n",
    "#70/30 split into train/test data\n",
    "train_size=int(np.floor(data.shape[0]*.7))\n",
    "train=data.iloc[0:train_size,:]\n",
    "test=data.iloc[train_size:,:]\n",
    "del train_size"
   ]
  },
  {
   "cell_type": "code",
   "execution_count": 6,
   "id": "dcecf32b",
   "metadata": {
    "ExecuteTime": {
     "end_time": "2022-11-11T20:58:48.492321Z",
     "start_time": "2022-11-11T20:58:48.473033Z"
    }
   },
   "outputs": [],
   "source": [
    "#Seperating Training Data\n",
    "g=train.groupby(train.Class)\n",
    "train2=g.get_group(2)\n",
    "train4=g.get_group(4)\n",
    "#Prior Probabilities\n",
    "prior2=train2.shape[0]/train.shape[0]\n",
    "prior4=train4.shape[0]/train.shape[0]\n",
    "\n",
    "c2size=train2.shape[0]\n",
    "c4size=train4.shape[0]\n",
    "#Class Conditionals Probs\n",
    "#Class=2\n",
    "cc2=np.zeros((10,9))\n",
    "#Populating 10x9 matrix with conditional probabilities for each val 1-10 for cols F1-F9\n",
    "for i in range(9):\n",
    "    colname=\"F\"+str(i+1)\n",
    "    cc=train2[colname].value_counts()\n",
    "    cc=cc/c2size\n",
    "    for j in range(cc.shape[0]):\n",
    "        cc2[int(cc.index[j]-1),i]=cc.iloc[j]\n",
    "#Class=4\n",
    "cc4=np.zeros((10,9))\n",
    "#Populating 10x9 matrix with conditional probabilities for each val 1-10 for cols F1-F9\n",
    "for i in range(9):\n",
    "    colname=\"F\"+str(i+1)\n",
    "    cc=train4[colname].value_counts()\n",
    "    cc=cc/c4size\n",
    "    for j in range(cc.shape[0]):\n",
    "        cc4[int(cc.index[j]-1),i]=cc.iloc[j]\n",
    "del g,c2size,c4size,i,j,colname,cc"
   ]
  },
  {
   "cell_type": "code",
   "execution_count": 7,
   "id": "496ff949",
   "metadata": {
    "ExecuteTime": {
     "end_time": "2022-11-11T20:58:54.643981Z",
     "start_time": "2022-11-11T20:58:54.638966Z"
    }
   },
   "outputs": [],
   "source": [
    "#Defining Function to make prediction for 1 new testing sample\n",
    "def makePred(testRow):\n",
    "    #Start with prior probability\n",
    "    p2=prior2\n",
    "    p4=prior4\n",
    "    #Looping through F1->F9\n",
    "    for i in range(testRow.shape[0]-1):\n",
    "        colname=\"F\"+str(i+1)\n",
    "        #Extract New Value from Column\n",
    "        val=testRow[colname]\n",
    "        #Multiply prediction by conditional probability of new value\n",
    "        p2*=cc2[int(val-1),i]\n",
    "        p4*=cc4[int(val-1),i]\n",
    "    #Extract actual class\n",
    "    actual=testRow.iloc[9]\n",
    "    if(p2>p4):\n",
    "        return 2,actual\n",
    "    else:\n",
    "        return 4,actual"
   ]
  },
  {
   "cell_type": "code",
   "execution_count": 8,
   "id": "38933367",
   "metadata": {
    "ExecuteTime": {
     "end_time": "2022-11-11T20:58:55.966932Z",
     "start_time": "2022-11-11T20:58:55.915440Z"
    }
   },
   "outputs": [
    {
     "name": "stdout",
     "output_type": "stream",
     "text": [
      "98.05% accuracy\n"
     ]
    }
   ],
   "source": [
    "#Testing\n",
    "count=0\n",
    "for i in range(test.shape[0]):\n",
    "    pred,truth=makePred(test.iloc[i,:])\n",
    "    if(pred==truth):\n",
    "        count+=1\n",
    "print(str(round((count/test.shape[0])*100,2))+\"% accuracy\")\n",
    "del i,pred,truth,count"
   ]
  },
  {
   "cell_type": "code",
   "execution_count": null,
   "id": "fd4846d2",
   "metadata": {},
   "outputs": [],
   "source": []
  }
 ],
 "metadata": {
  "kernelspec": {
   "display_name": "Python 3 (ipykernel)",
   "language": "python",
   "name": "python3"
  },
  "language_info": {
   "codemirror_mode": {
    "name": "ipython",
    "version": 3
   },
   "file_extension": ".py",
   "mimetype": "text/x-python",
   "name": "python",
   "nbconvert_exporter": "python",
   "pygments_lexer": "ipython3",
   "version": "3.9.12"
  },
  "varInspector": {
   "cols": {
    "lenName": 16,
    "lenType": 16,
    "lenVar": 40
   },
   "kernels_config": {
    "python": {
     "delete_cmd_postfix": "",
     "delete_cmd_prefix": "del ",
     "library": "var_list.py",
     "varRefreshCmd": "print(var_dic_list())"
    },
    "r": {
     "delete_cmd_postfix": ") ",
     "delete_cmd_prefix": "rm(",
     "library": "var_list.r",
     "varRefreshCmd": "cat(var_dic_list()) "
    }
   },
   "position": {
    "height": "757.6666870117188px",
    "left": "1305px",
    "right": "20px",
    "top": "81px",
    "width": "606.3333129882812px"
   },
   "types_to_exclude": [
    "module",
    "function",
    "builtin_function_or_method",
    "instance",
    "_Feature"
   ],
   "window_display": true
  }
 },
 "nbformat": 4,
 "nbformat_minor": 5
}
