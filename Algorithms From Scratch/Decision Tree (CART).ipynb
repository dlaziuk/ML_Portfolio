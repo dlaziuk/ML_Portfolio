{
 "cells": [
  {
   "cell_type": "code",
   "execution_count": 1,
   "id": "80a5db84",
   "metadata": {
    "ExecuteTime": {
     "end_time": "2023-02-10T22:06:35.460281Z",
     "start_time": "2023-02-10T22:06:35.455254Z"
    }
   },
   "outputs": [],
   "source": [
    "#\n",
    "# David Laziuk\n",
    "# Decision Tree from scratch\n",
    "#"
   ]
  },
  {
   "cell_type": "code",
   "execution_count": 2,
   "id": "116b44ca",
   "metadata": {
    "ExecuteTime": {
     "end_time": "2023-02-10T22:06:36.989455Z",
     "start_time": "2023-02-10T22:06:35.462854Z"
    }
   },
   "outputs": [],
   "source": [
    "#Imports\n",
    "import math\n",
    "import numpy as np\n",
    "import pandas as pd\n",
    "#Loading Data\n",
    "data=pd.read_csv('breast-cancer-wisconsin.csv',na_values= \"?\")\n",
    "#Dropping rows with NAs\n",
    "data=data.dropna()\n",
    "#Fixing value type\n",
    "data['F6']=data['F6'].astype(int)\n",
    "#Dropping Sample ID Column\n",
    "data=data.iloc[:,1:]\n",
    "#Shuffling Entries\n",
    "data=data.sample(frac=1).reset_index(drop=True)\n",
    "#70/30 split into train/test data\n",
    "train_size=int(np.floor(data.shape[0]*.7))\n",
    "features=(data.shape[1]-1)\n",
    "X_train=data.iloc[0:train_size,0:features].reset_index(drop=True)\n",
    "X_test=data.iloc[train_size:,0:features].reset_index(drop=True)\n",
    "y_train=data.iloc[0:train_size,features].reset_index(drop=True)\n",
    "y_test=data.iloc[train_size:,features].reset_index(drop=True)\n",
    "del features,train_size"
   ]
  },
  {
   "cell_type": "code",
   "execution_count": 3,
   "id": "93a9e8d7",
   "metadata": {
    "ExecuteTime": {
     "end_time": "2023-02-10T22:06:37.001776Z",
     "start_time": "2023-02-10T22:06:36.991875Z"
    }
   },
   "outputs": [],
   "source": [
    "#Function to get Gini Impurity of Split\n",
    "def get_impurity(X,y,col,val,terminate):\n",
    "    #Store predicted class if clean split\n",
    "    lPred=-1\n",
    "    rPred=-1\n",
    "    #Store all sample indexes that satisfy & fail given condition\n",
    "    idxL=X[X[col]<=val].index\n",
    "    idxR=X[X[col]>val].index\n",
    "    #Class composition of samples after split\n",
    "    compL=y[idxL].value_counts()\n",
    "    compR=y[idxR].value_counts()\n",
    "    #LEFT SPLIT: Condition Satisfied\n",
    "    #Case 1: All samples satisfy condition, max impurity returned\n",
    "    # ~Impurity of an empty set is undefined, but 1 is chosen as this split is worthless\n",
    "    if(len(compL)==0):\n",
    "        return 1,lPred,rPred\n",
    "    #Case 2: Samples satisfying condition are all same class, lowest impurity (0)\n",
    "    #Store Class to be returned as perfect split\n",
    "    elif(len(compL)==1):\n",
    "        leftS=compL.iloc[0]\n",
    "        leftI=0\n",
    "        lPred=compL.index[0]\n",
    "    #Case 3: Samples satisying condition have mixed class, calculate impurity\n",
    "    else:\n",
    "        leftS=(compL[2]+compL[4])\n",
    "        #Probability of each class\n",
    "        p2L=compL[2]/leftS\n",
    "        p4L=compL[4]/leftS\n",
    "        #Impurity = 1-(P(c1)^2+P(c2)^2)\n",
    "        leftI=1-((p2L**2)+(p4L**2))\n",
    "        #If max_depth is reached, predict majority class and end branch\n",
    "        #This is not done for Case 1/2 as those cases end branch naturally \n",
    "        if(terminate):\n",
    "            if(compL[2]>compL[4]):\n",
    "                lPred=2\n",
    "            #Predict malignant if even, FP is prefered in reality (Could be changed to random)\n",
    "            else:\n",
    "                lPred=4\n",
    "    #RIGHT SPLIT: Condition not satisfied\n",
    "    #Repeat cases 1-3 identically\n",
    "    if(len(compR)==0):\n",
    "        return 1,lPred,rPred\n",
    "    elif(len(compR)==1):\n",
    "        rightS=compR.iloc[0]\n",
    "        rightI=0\n",
    "        rPred=compR.index[0]\n",
    "    else:\n",
    "        rightS=(compR[2]+compR[4])\n",
    "        p2R=compR[2]/rightS\n",
    "        p4R=compR[4]/rightS\n",
    "        rightI=1-((p2R**2)+(p4R**2))\n",
    "        if(terminate):\n",
    "            if(compR[2]>compR[4]):\n",
    "                rPred=2\n",
    "            else:\n",
    "                rPred=4\n",
    "    #Size of parent node\n",
    "    nodeS=leftS+rightS\n",
    "    #Parent Node Impurity= Weighted Average of child impurities\n",
    "    nodeI=((leftS/nodeS)*leftI)+((rightS/nodeS)*rightI)\n",
    "    return nodeI,lPred,rPred"
   ]
  },
  {
   "cell_type": "code",
   "execution_count": 4,
   "id": "17138a86",
   "metadata": {
    "ExecuteTime": {
     "end_time": "2023-02-10T22:06:37.010743Z",
     "start_time": "2023-02-10T22:06:37.005343Z"
    }
   },
   "outputs": [],
   "source": [
    "#Find find condition(feature<=value) with lowest Gini Impurity for data\n",
    "def get_split(X,y,terminate):\n",
    "    #Best Impurity,Column/Feature,Value  If perfect split: Best Left/Right class prediction\n",
    "    bestI=1.1\n",
    "    bestC=''\n",
    "    bestV=-1\n",
    "    bestL=-1\n",
    "    bestR=-1\n",
    "    #Check each Feature\n",
    "    for col in list(X.columns):\n",
    "        #Find all values contained in feature\n",
    "        comp=sorted(list(X[col].value_counts().index))\n",
    "        #Test all values (except max val, nothing greater)\n",
    "        for val in comp:\n",
    "            if(val!=10):\n",
    "                #Get Impurity of Condition\n",
    "                I,lPred,rPred=get_impurity(X,y,col,val,terminate)\n",
    "                #Store if Lowest\n",
    "                if(I<bestI):\n",
    "                    bestI=I\n",
    "                    bestC=col\n",
    "                    bestV=val\n",
    "                    bestL=lPred\n",
    "                    bestR=rPred\n",
    "    return bestI,bestC,bestV,bestL,bestR"
   ]
  },
  {
   "cell_type": "code",
   "execution_count": 5,
   "id": "2f50c876",
   "metadata": {
    "ExecuteTime": {
     "end_time": "2023-02-10T22:06:37.016154Z",
     "start_time": "2023-02-10T22:06:37.012598Z"
    }
   },
   "outputs": [],
   "source": [
    "#Node class: Contains col, cond, path & Leaf(Class if perfect split)\n",
    "class Node:\n",
    "    def __init__(self,Col,Val,Path,Leaf):\n",
    "        self.Col=Col\n",
    "        self.Val=Val\n",
    "        self.Path=Path\n",
    "        self.Leaf=Leaf"
   ]
  },
  {
   "cell_type": "code",
   "execution_count": 6,
   "id": "2ab318cb",
   "metadata": {
    "ExecuteTime": {
     "end_time": "2023-02-10T22:06:37.026927Z",
     "start_time": "2023-02-10T22:06:37.018344Z"
    }
   },
   "outputs": [],
   "source": [
    "#Recursive function to fit CART decision tree \n",
    "def growTree(X,y,path,max_depth):\n",
    "    #Terminate if max_depth reached\n",
    "    terminate=False\n",
    "    if(len(path)>=max_depth-1):\n",
    "        terminate=True\n",
    "    #Get best split for data\n",
    "    I,col,val,lPred,rPred=get_split(X,y,terminate)\n",
    "    #Add parent node to list, Leaf will be None as function will not be called for data of same class\n",
    "    nodes.append(Node(col,val,path,None))\n",
    "    #print(\"Node\"+str(len(nodes))+\": \"+path)\n",
    "    #print(col+'<='+str(val)+' left:'+str(lPred)+' right:'+str(rPred)+' Impurity: '+str(round(I,3)))\n",
    "    #Child Node Operations\n",
    "    #If left node is leaf:\n",
    "    if(lPred!=-1):\n",
    "        #Add leaf node to list with path+'l'\n",
    "        nodes.append(Node(None,None,path+'l',lPred))\n",
    "        #print(\"Node\"+str(len(nodes))+\": \"+path+'l')\n",
    "        #print('LEAF: '+str(lPred))\n",
    "    else:\n",
    "        #Reset indexes of data\n",
    "        X=X.reset_index(drop=True)\n",
    "        y=y.reset_index(drop=True)\n",
    "        #Find indexes of samples satisfying condition\n",
    "        idxL=X[X[col]<=val].index\n",
    "        #Pass data of samples satisfying condition to be split, with path+'l'\n",
    "        Xl=X.iloc[idxL]\n",
    "        yl=y.iloc[idxL]\n",
    "        growTree(Xl,yl,path+'l',max_depth)\n",
    "    #Same operations for samples failing condition (right), with path+'r'\n",
    "    if(rPred!=-1):\n",
    "        nodes.append(Node(None,None,path+'r',rPred))\n",
    "        #print(\"Node\"+str(len(nodes))+\": \"+path+'r')\n",
    "        #print('LEAF: '+str(rPred))\n",
    "    else:\n",
    "        X=X.reset_index(drop=True)\n",
    "        y=y.reset_index(drop=True)\n",
    "        idxR=X[X[col]>val].index\n",
    "        Xr=X.iloc[idxR]\n",
    "        yr=y.iloc[idxR]\n",
    "        growTree(Xr,yr,path+'r',max_depth)"
   ]
  },
  {
   "cell_type": "code",
   "execution_count": 7,
   "id": "6ebab7be",
   "metadata": {
    "ExecuteTime": {
     "end_time": "2023-02-10T22:06:37.039530Z",
     "start_time": "2023-02-10T22:06:37.029348Z"
    }
   },
   "outputs": [],
   "source": [
    "#Function to draw tree\n",
    "def drawTree(ns):\n",
    "    #Find depth, not necessarily=max_depth\n",
    "    depth=-1\n",
    "    for n in ns:\n",
    "        if(len(n.Path)>depth):\n",
    "            depth=len(n.Path)\n",
    "    #Get full tree with all possible paths (for formatting)\n",
    "    trash,full=fullTree([],'',depth)   \n",
    "    #Iterate through all layers\n",
    "    for l in range(depth+1):\n",
    "        spacing=(7*(2**(depth-l)))#Exponentially increasing spacing based on height of layer\n",
    "        #Find all nodes in layer based on path length\n",
    "        paths=[]\n",
    "        for n in ns:\n",
    "            if(len(n.Path)==l):\n",
    "                paths.append(n.Path)\n",
    "        #Print first node individually\n",
    "        if(l==0):\n",
    "            temp='('+ns[0].Col+'<='+str(ns[0].Val)+')'\n",
    "            print(temp.center(spacing),end='')\n",
    "        #Find all possible paths for layer\n",
    "        pps=[]\n",
    "        for f in full:\n",
    "            if(len(f)==l):\n",
    "                pps.append(f)         \n",
    "        #Main Print\n",
    "        for p in pps:#Check all possible paths in layer\n",
    "            if p in paths:#If path exists proceed\n",
    "                for i in range(len(ns)):#Search through all nodes\n",
    "                    if(ns[i].Path==p):#If path matches proceed\n",
    "                        if(ns[i].Leaf==None):#If not leaf print condition\n",
    "                            temp='('+ns[i].Col+'<='+str(ns[i].Val)+')'\n",
    "                            print(temp.center(spacing),end='')\n",
    "                        else:#If leaf print prediction\n",
    "                            temp='(  '+str(ns[i].Leaf)+'  )'\n",
    "                            print(temp.center(spacing),end='')\n",
    "            #Else print spacing\n",
    "            else:\n",
    "                print('       '.center(spacing),end='')\n",
    "        print()#End line\n",
    "#Recursive method of getting all possible paths in a tree of set depth\n",
    "def fullTree(paths,path,depth):\n",
    "    if(len(path)<depth):\n",
    "        p1,d=fullTree(paths,path+'l',depth)\n",
    "        paths.append(p1)\n",
    "        p2,d=fullTree(paths,path+'r',depth)\n",
    "        paths.append(p2)\n",
    "    return path,paths"
   ]
  },
  {
   "cell_type": "code",
   "execution_count": 8,
   "id": "491c13d5",
   "metadata": {
    "ExecuteTime": {
     "end_time": "2023-02-10T22:06:37.886109Z",
     "start_time": "2023-02-10T22:06:37.042154Z"
    }
   },
   "outputs": [
    {
     "name": "stdout",
     "output_type": "stream",
     "text": [
      "                                                    (F3<=3)                                                     \n",
      "                        (F6<=5)                                                 (F2<=1)                         \n",
      "          (F2<=3)                     (F1<=1)                     (  2  )                     (F2<=4)           \n",
      "   (F8<=8)       (F1<=4)       (  2  )       (F7<=3)                                   (F6<=3)       (F4<=1)    \n",
      "(  2  )(  4  )(  2  )(  4  )              (  4  )(  4  )                            (  2  )(  4  )(  4  )(  4  )\n"
     ]
    }
   ],
   "source": [
    "#Growing Tree with original train data, max_depth=4 (not counting top node)\n",
    "nodes=[]\n",
    "growTree(X_train,y_train,\"\",4)\n",
    "drawTree(nodes)#draw tree"
   ]
  },
  {
   "cell_type": "code",
   "execution_count": 9,
   "id": "9f95fd74",
   "metadata": {
    "ExecuteTime": {
     "end_time": "2023-02-10T22:06:37.907676Z",
     "start_time": "2023-02-10T22:06:37.890760Z"
    },
    "code_folding": []
   },
   "outputs": [
    {
     "name": "stdout",
     "output_type": "stream",
     "text": [
      "Accuracy: 0.9512195121951219\n"
     ]
    }
   ],
   "source": [
    "#Custom Testing\n",
    "acc=0\n",
    "#Iterate through test samples\n",
    "for i in range(X_test.shape[0]):\n",
    "    #Extract truth\n",
    "    truth=y_test.iloc[i]\n",
    "    pred=0\n",
    "    path=''#Start with empty path (top node)\n",
    "    #Loop until prediction(leaf) is found\n",
    "    while(pred==0):\n",
    "        #Linear Search for node satisfying path\n",
    "        #This is very unoptimized for readability\n",
    "        #Optimal solution would be for Node Class to reference parent/children directly\n",
    "        pos=-1\n",
    "        for p in range(len(nodes)):\n",
    "            if(nodes[p].Path==path):\n",
    "                pos=p\n",
    "                break\n",
    "        #If node satisfying path is leaf, store prediction\n",
    "        if(nodes[pos].Leaf!=None):\n",
    "            pred=nodes[pos].Leaf\n",
    "            #acc++ if pred is true\n",
    "            if(pred==truth):\n",
    "                acc+=1\n",
    "        #If node satisying path is condition, test\n",
    "        else:\n",
    "            #Path+'l' if satisfied, +'r' otherwise, go deeper\n",
    "            if(X_test.loc[i,nodes[pos].Col]<=nodes[pos].Val):\n",
    "                path+=\"l\"\n",
    "            else:\n",
    "                path+=\"r\"\n",
    "print('Accuracy: '+str(acc/y_test.shape[0]))"
   ]
  },
  {
   "cell_type": "code",
   "execution_count": null,
   "id": "d17601f6",
   "metadata": {},
   "outputs": [],
   "source": []
  }
 ],
 "metadata": {
  "kernelspec": {
   "display_name": "Python 3 (ipykernel)",
   "language": "python",
   "name": "python3"
  },
  "language_info": {
   "codemirror_mode": {
    "name": "ipython",
    "version": 3
   },
   "file_extension": ".py",
   "mimetype": "text/x-python",
   "name": "python",
   "nbconvert_exporter": "python",
   "pygments_lexer": "ipython3",
   "version": "3.9.12"
  },
  "varInspector": {
   "cols": {
    "lenName": 16,
    "lenType": 16,
    "lenVar": 40
   },
   "kernels_config": {
    "python": {
     "delete_cmd_postfix": "",
     "delete_cmd_prefix": "del ",
     "library": "var_list.py",
     "varRefreshCmd": "print(var_dic_list())"
    },
    "r": {
     "delete_cmd_postfix": ") ",
     "delete_cmd_prefix": "rm(",
     "library": "var_list.r",
     "varRefreshCmd": "cat(var_dic_list()) "
    }
   },
   "position": {
    "height": "501px",
    "left": "1343px",
    "right": "20px",
    "top": "571.000061px",
    "width": "532.666687px"
   },
   "types_to_exclude": [
    "module",
    "function",
    "builtin_function_or_method",
    "instance",
    "_Feature"
   ],
   "window_display": true
  }
 },
 "nbformat": 4,
 "nbformat_minor": 5
}
