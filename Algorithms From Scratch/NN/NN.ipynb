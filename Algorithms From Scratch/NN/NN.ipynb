{
 "cells": [
  {
   "cell_type": "code",
   "execution_count": 21,
   "id": "8c4c67d7",
   "metadata": {
    "ExecuteTime": {
     "end_time": "2022-12-08T03:53:24.957920Z",
     "start_time": "2022-12-08T03:53:24.954778Z"
    }
   },
   "outputs": [],
   "source": [
    "#\n",
    "# David Laziuk\n",
    "# Basic Neural Network from scratch\n",
    "#"
   ]
  },
  {
   "cell_type": "code",
   "execution_count": 22,
   "id": "bfc05877",
   "metadata": {
    "ExecuteTime": {
     "end_time": "2022-12-08T03:53:24.964544Z",
     "start_time": "2022-12-08T03:53:24.960947Z"
    },
    "code_folding": []
   },
   "outputs": [],
   "source": [
    "#Importing Tools\n",
    "import math\n",
    "import numpy as np\n",
    "import pandas as pd\n",
    "import random\n",
    "from math import log"
   ]
  },
  {
   "cell_type": "code",
   "execution_count": 23,
   "id": "551a8308",
   "metadata": {
    "ExecuteTime": {
     "end_time": "2022-12-08T03:53:24.980559Z",
     "start_time": "2022-12-08T03:53:24.966598Z"
    }
   },
   "outputs": [
    {
     "data": {
      "text/html": [
       "<div>\n",
       "<style scoped>\n",
       "    .dataframe tbody tr th:only-of-type {\n",
       "        vertical-align: middle;\n",
       "    }\n",
       "\n",
       "    .dataframe tbody tr th {\n",
       "        vertical-align: top;\n",
       "    }\n",
       "\n",
       "    .dataframe thead th {\n",
       "        text-align: right;\n",
       "    }\n",
       "</style>\n",
       "<table border=\"1\" class=\"dataframe\">\n",
       "  <thead>\n",
       "    <tr style=\"text-align: right;\">\n",
       "      <th></th>\n",
       "      <th>sl</th>\n",
       "      <th>sw</th>\n",
       "      <th>pl</th>\n",
       "      <th>pw</th>\n",
       "      <th>class</th>\n",
       "    </tr>\n",
       "  </thead>\n",
       "  <tbody>\n",
       "    <tr>\n",
       "      <th>0</th>\n",
       "      <td>5.1</td>\n",
       "      <td>3.5</td>\n",
       "      <td>1.4</td>\n",
       "      <td>0.2</td>\n",
       "      <td>0</td>\n",
       "    </tr>\n",
       "    <tr>\n",
       "      <th>1</th>\n",
       "      <td>4.9</td>\n",
       "      <td>3.0</td>\n",
       "      <td>1.4</td>\n",
       "      <td>0.2</td>\n",
       "      <td>0</td>\n",
       "    </tr>\n",
       "    <tr>\n",
       "      <th>2</th>\n",
       "      <td>4.7</td>\n",
       "      <td>3.2</td>\n",
       "      <td>1.3</td>\n",
       "      <td>0.2</td>\n",
       "      <td>0</td>\n",
       "    </tr>\n",
       "    <tr>\n",
       "      <th>3</th>\n",
       "      <td>4.6</td>\n",
       "      <td>3.1</td>\n",
       "      <td>1.5</td>\n",
       "      <td>0.2</td>\n",
       "      <td>0</td>\n",
       "    </tr>\n",
       "    <tr>\n",
       "      <th>4</th>\n",
       "      <td>5.0</td>\n",
       "      <td>3.6</td>\n",
       "      <td>1.4</td>\n",
       "      <td>0.2</td>\n",
       "      <td>0</td>\n",
       "    </tr>\n",
       "  </tbody>\n",
       "</table>\n",
       "</div>"
      ],
      "text/plain": [
       "    sl   sw   pl   pw  class\n",
       "0  5.1  3.5  1.4  0.2      0\n",
       "1  4.9  3.0  1.4  0.2      0\n",
       "2  4.7  3.2  1.3  0.2      0\n",
       "3  4.6  3.1  1.5  0.2      0\n",
       "4  5.0  3.6  1.4  0.2      0"
      ]
     },
     "execution_count": 23,
     "metadata": {},
     "output_type": "execute_result"
    }
   ],
   "source": [
    "#Importing Data\n",
    "data=pd.read_csv('iris.data',names=['sl','sw','pl','pw','class'])\n",
    "#Formatting Class to numerical\n",
    "data.loc[data['class']=='Iris-setosa','class']=0\n",
    "data.loc[data['class']=='Iris-versicolor','class']=1\n",
    "data.loc[data['class']=='Iris-virginica','class']=2\n",
    "data['class']=data['class'].astype('int64')\n",
    "data.head()"
   ]
  },
  {
   "cell_type": "code",
   "execution_count": 24,
   "id": "64c42b11",
   "metadata": {
    "ExecuteTime": {
     "end_time": "2022-12-08T03:53:24.989550Z",
     "start_time": "2022-12-08T03:53:24.983275Z"
    },
    "code_folding": []
   },
   "outputs": [],
   "source": [
    "#Shuffling Entries\n",
    "data=data.sample(frac=1).reset_index(drop=True)\n",
    "#70/30 split into train/test data\n",
    "train_size=int(np.floor(data.shape[0]*.7))\n",
    "features=(data.shape[1]-1)\n",
    "X_train=data.iloc[0:train_size,0:features].reset_index(drop=True)\n",
    "X_test=data.iloc[train_size:,0:features].reset_index(drop=True)\n",
    "y_train=data.iloc[0:train_size,features].reset_index(drop=True)\n",
    "y_test=data.iloc[train_size:,features].reset_index(drop=True)\n",
    "#Converting Data to ndarray from dataframe\n",
    "X_train=X_train.to_numpy()\n",
    "X_test=X_test.to_numpy()\n",
    "y_train=y_train.to_numpy()\n",
    "y_test=y_test.to_numpy()\n",
    "del features,train_size"
   ]
  },
  {
   "cell_type": "code",
   "execution_count": 25,
   "id": "829df4cb",
   "metadata": {
    "ExecuteTime": {
     "end_time": "2022-12-08T03:53:24.993684Z",
     "start_time": "2022-12-08T03:53:24.990962Z"
    }
   },
   "outputs": [],
   "source": [
    "#Defining sigmoid \n",
    "def sig(x):\n",
    "    return 1/(1+np.exp(-x))"
   ]
  },
  {
   "cell_type": "code",
   "execution_count": 26,
   "id": "2b9fa4f9",
   "metadata": {
    "ExecuteTime": {
     "end_time": "2022-12-08T03:53:24.998104Z",
     "start_time": "2022-12-08T03:53:24.995348Z"
    }
   },
   "outputs": [],
   "source": [
    "#Forawrd Pass Func.\n",
    "def forward(X):\n",
    "    Z1=np.add((np.dot(X,W1)),b1.T)\n",
    "    H1=sig(Z1)\n",
    "    Z2=np.add((np.dot(H1,W2)),b2.T)\n",
    "    H2=sig(Z2)\n",
    "    return Z1,H1,Z2,H2"
   ]
  },
  {
   "cell_type": "code",
   "execution_count": 27,
   "id": "7d38ff37",
   "metadata": {
    "ExecuteTime": {
     "end_time": "2022-12-08T03:53:25.003857Z",
     "start_time": "2022-12-08T03:53:25.000002Z"
    }
   },
   "outputs": [],
   "source": [
    "#Cross entropy loss function for non-binary classification\n",
    "def crossloss(pred,true):\n",
    "    loss=0\n",
    "    for i in range(3):\n",
    "        #Try catch to prevent log(0)=undefined\n",
    "        try:\n",
    "            loss+=( -true[0,i]*log(pred[0,i]) - (1-true[0,i]) * log(1-pred[0,i]) )\n",
    "        #If this is the case loss must be 0\n",
    "        except ValueError:\n",
    "            loss+=0\n",
    "    return loss "
   ]
  },
  {
   "cell_type": "code",
   "execution_count": 28,
   "id": "e1754cf5",
   "metadata": {
    "ExecuteTime": {
     "end_time": "2022-12-08T03:53:25.011518Z",
     "start_time": "2022-12-08T03:53:25.006074Z"
    }
   },
   "outputs": [],
   "source": [
    "#Backprop func\n",
    "def backward(W1,b1,W2,b2,H1,H2,X,Y,lr):\n",
    "    #Calc gradient\n",
    "    dz2=(H2-Y).reshape((3,1))\n",
    "    dW2=np.dot((H1.T).reshape((Hsize,1)),dz2.T)\n",
    "    db2=dz2\n",
    "    dz1=np.multiply(np.dot(W2,dz2),((H1*(1-H1)).reshape((Hsize,1))))\n",
    "    dW1=np.dot((X.T).reshape((4,1)),(dz1.T))\n",
    "    db1=dz1\n",
    "    #Update weights\n",
    "    W1=W1-(lr*dW1)\n",
    "    b1=b1-(lr*db1)\n",
    "    W2=W2-(lr*dW2)\n",
    "    b2=b2-(lr*db2)\n",
    "\n",
    "    return W1,b1,W2,b2"
   ]
  },
  {
   "cell_type": "code",
   "execution_count": 29,
   "id": "7162a264",
   "metadata": {
    "ExecuteTime": {
     "end_time": "2022-12-08T03:53:30.653208Z",
     "start_time": "2022-12-08T03:53:25.016986Z"
    }
   },
   "outputs": [
    {
     "name": "stdout",
     "output_type": "stream",
     "text": [
      "Training:\n",
      "Epoch 00000: | Loss: 2.0617 | Acc: 0.3524\n",
      "Epoch 00050: | Loss: 1.8993 | Acc: 0.3905\n",
      "Epoch 00100: | Loss: 1.8948 | Acc: 0.3333\n",
      "Epoch 00150: | Loss: 1.7888 | Acc: 0.4000\n",
      "Epoch 00200: | Loss: 1.5336 | Acc: 0.6952\n",
      "Epoch 00250: | Loss: 1.2745 | Acc: 0.6762\n",
      "Epoch 00300: | Loss: 1.1261 | Acc: 0.6952\n",
      "Epoch 00350: | Loss: 1.0516 | Acc: 0.7143\n",
      "Epoch 00400: | Loss: 1.0774 | Acc: 0.6381\n",
      "Epoch 00450: | Loss: 0.9408 | Acc: 0.7810\n",
      "Epoch 00500: | Loss: 0.9995 | Acc: 0.7143\n",
      "Epoch 00550: | Loss: 0.9330 | Acc: 0.8381\n",
      "Epoch 00600: | Loss: 0.8019 | Acc: 0.9333\n",
      "Epoch 00650: | Loss: 0.8092 | Acc: 1.0000\n",
      "Epoch 00700: | Loss: 0.7373 | Acc: 0.9333\n",
      "Epoch 00750: | Loss: 0.6267 | Acc: 1.0000\n",
      "Epoch 00800: | Loss: 0.6904 | Acc: 0.9238\n",
      "Epoch 00850: | Loss: 0.5952 | Acc: 0.9810\n",
      "Epoch 00900: | Loss: 0.5306 | Acc: 0.9714\n",
      "Epoch 00950: | Loss: 0.5927 | Acc: 0.9524\n",
      "Epoch 00999: | Loss: 0.4411 | Acc: 0.9905\n"
     ]
    }
   ],
   "source": [
    "#Main Function\n",
    "print(\"Training:\")\n",
    "Hsize=8  #Size of hidden layer\n",
    "OutSize=3#Must be 3 for this data\n",
    "Learning_Rate=.001\n",
    "EPOCHS=1000\n",
    "Xrows=X_train.shape[0]#105\n",
    "Xcols=X_train.shape[1]#4\n",
    "#Randomly initializing weights close to 0\n",
    "W1=np.random.normal(0, 0.01, (Xcols,Hsize))\n",
    "W2=np.random.normal(0, 0.01, (Hsize,OutSize))\n",
    "#Initialize bias to 0\n",
    "b1=np.zeros((Hsize)).reshape((Hsize,1))\n",
    "b2=np.zeros((OutSize)).reshape((OutSize,1))\n",
    "\n",
    "#Training\n",
    "for e in range(EPOCHS):\n",
    "    meanLoss=0\n",
    "    meanAcc=0\n",
    "    #SGD (one random sample at a time)\n",
    "    for s in range(Xrows):\n",
    "        #Extracting random sample with replacement\n",
    "        p=random.randint(0,Xrows-1)\n",
    "        #Since selection is with replacemnt not all samples will be considered in each epoch\n",
    "        X=X_train[p,:].reshape((1,Xcols))\n",
    "        #One-Hot encoding individual sample class instead of whole data\n",
    "        Y=np.zeros((3))\n",
    "        for i in range(3):\n",
    "            if(y_train[p]==i):\n",
    "                Y[i]=1\n",
    "        Y=Y.reshape((1,OutSize))\n",
    "        #Foward Pass\n",
    "        z1,H1,z2,H2=forward(X)\n",
    "        #Loss calc\n",
    "        meanLoss+=crossloss(H2,Y)\n",
    "        #Extracting prediction & updating accuracy\n",
    "        pred=np.argmax(H2)\n",
    "        if(pred==y_train[p]):\n",
    "            meanAcc+=1\n",
    "        #Backward Pass\n",
    "        W1,b1,W2,b2=backward(W1,b1,W2,b2,H1,H2,X,Y,Learning_Rate)\n",
    "\n",
    "    #Display loss & acc every 50 epochs\n",
    "    meanLoss/=Xrows\n",
    "    meanAcc/=Xrows\n",
    "    if(e%50==0 or e==(EPOCHS-1)):\n",
    "        print(f'Epoch {e+0:05}: | Loss: {meanLoss:.4f} | Acc: {meanAcc:.4f}')\n",
    "del Hsize,OutSize,Learning_Rate,EPOCHS,Xrows,meanLoss,meanAcc,e,s,p,i,X,Y,z1,H1,z2,H2,pred"
   ]
  },
  {
   "cell_type": "code",
   "execution_count": 30,
   "id": "928b7723",
   "metadata": {
    "ExecuteTime": {
     "end_time": "2022-12-08T03:53:30.662236Z",
     "start_time": "2022-12-08T03:53:30.656027Z"
    }
   },
   "outputs": [
    {
     "name": "stdout",
     "output_type": "stream",
     "text": [
      "Test accuracy: 0.9778\n"
     ]
    }
   ],
   "source": [
    "acc=0\n",
    "#Iterating through all testing samples\n",
    "for i in range(X_test.shape[0]):\n",
    "    X=X_test[i,:].reshape((1,Xcols))\n",
    "    #Pass sample through network\n",
    "    z1,H1,z2,H2=forward(X)\n",
    "    #Extract prediction\n",
    "    pred=np.argmax(H2)\n",
    "    #Update accuracy\n",
    "    if(pred==y_test[i]):\n",
    "        acc+=1\n",
    "acc/=X_test.shape[0]\n",
    "print(\"Test accuracy: \"+str(round(acc,4)))"
   ]
  },
  {
   "cell_type": "code",
   "execution_count": null,
   "id": "0258e400",
   "metadata": {},
   "outputs": [],
   "source": []
  }
 ],
 "metadata": {
  "kernelspec": {
   "display_name": "Python 3 (ipykernel)",
   "language": "python",
   "name": "python3"
  },
  "language_info": {
   "codemirror_mode": {
    "name": "ipython",
    "version": 3
   },
   "file_extension": ".py",
   "mimetype": "text/x-python",
   "name": "python",
   "nbconvert_exporter": "python",
   "pygments_lexer": "ipython3",
   "version": "3.9.12"
  },
  "varInspector": {
   "cols": {
    "lenName": 16,
    "lenType": 16,
    "lenVar": 40
   },
   "kernels_config": {
    "python": {
     "delete_cmd_postfix": "",
     "delete_cmd_prefix": "del ",
     "library": "var_list.py",
     "varRefreshCmd": "print(var_dic_list())"
    },
    "r": {
     "delete_cmd_postfix": ") ",
     "delete_cmd_prefix": "rm(",
     "library": "var_list.r",
     "varRefreshCmd": "cat(var_dic_list()) "
    }
   },
   "position": {
    "height": "1378px",
    "left": "1886px",
    "right": "20px",
    "top": "124px",
    "width": "782px"
   },
   "types_to_exclude": [
    "module",
    "function",
    "builtin_function_or_method",
    "instance",
    "_Feature"
   ],
   "window_display": true
  }
 },
 "nbformat": 4,
 "nbformat_minor": 5
}
