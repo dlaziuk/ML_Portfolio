{
 "cells": [
  {
   "cell_type": "code",
   "execution_count": 1,
   "id": "e0ab145f",
   "metadata": {
    "ExecuteTime": {
     "end_time": "2022-11-17T17:24:01.657196Z",
     "start_time": "2022-11-17T17:24:01.653423Z"
    }
   },
   "outputs": [],
   "source": [
    "#\n",
    "# David Laziuk\n",
    "# Unfinished CART decision tree from scratch\n",
    "#"
   ]
  },
  {
   "cell_type": "code",
   "execution_count": 59,
   "id": "a0476292",
   "metadata": {
    "ExecuteTime": {
     "end_time": "2022-11-17T20:13:55.188071Z",
     "start_time": "2022-11-17T20:13:55.185415Z"
    }
   },
   "outputs": [],
   "source": [
    "#Imports\n",
    "import math\n",
    "import numpy as np\n",
    "import pandas as pd"
   ]
  },
  {
   "cell_type": "code",
   "execution_count": 60,
   "id": "df04a93f",
   "metadata": {
    "ExecuteTime": {
     "end_time": "2022-11-17T20:13:55.940006Z",
     "start_time": "2022-11-17T20:13:55.921484Z"
    }
   },
   "outputs": [
    {
     "name": "stdout",
     "output_type": "stream",
     "text": [
      "Original Shape: (683, 10)\n"
     ]
    },
    {
     "data": {
      "text/html": [
       "<div>\n",
       "<style scoped>\n",
       "    .dataframe tbody tr th:only-of-type {\n",
       "        vertical-align: middle;\n",
       "    }\n",
       "\n",
       "    .dataframe tbody tr th {\n",
       "        vertical-align: top;\n",
       "    }\n",
       "\n",
       "    .dataframe thead th {\n",
       "        text-align: right;\n",
       "    }\n",
       "</style>\n",
       "<table border=\"1\" class=\"dataframe\">\n",
       "  <thead>\n",
       "    <tr style=\"text-align: right;\">\n",
       "      <th></th>\n",
       "      <th>F1</th>\n",
       "      <th>F2</th>\n",
       "      <th>F3</th>\n",
       "      <th>F4</th>\n",
       "      <th>F5</th>\n",
       "      <th>F6</th>\n",
       "      <th>F7</th>\n",
       "      <th>F8</th>\n",
       "      <th>F9</th>\n",
       "      <th>Class</th>\n",
       "    </tr>\n",
       "  </thead>\n",
       "  <tbody>\n",
       "    <tr>\n",
       "      <th>0</th>\n",
       "      <td>5</td>\n",
       "      <td>1</td>\n",
       "      <td>1</td>\n",
       "      <td>1</td>\n",
       "      <td>2</td>\n",
       "      <td>1.0</td>\n",
       "      <td>3</td>\n",
       "      <td>1</td>\n",
       "      <td>1</td>\n",
       "      <td>2</td>\n",
       "    </tr>\n",
       "    <tr>\n",
       "      <th>1</th>\n",
       "      <td>5</td>\n",
       "      <td>4</td>\n",
       "      <td>4</td>\n",
       "      <td>5</td>\n",
       "      <td>7</td>\n",
       "      <td>10.0</td>\n",
       "      <td>3</td>\n",
       "      <td>2</td>\n",
       "      <td>1</td>\n",
       "      <td>2</td>\n",
       "    </tr>\n",
       "    <tr>\n",
       "      <th>2</th>\n",
       "      <td>3</td>\n",
       "      <td>1</td>\n",
       "      <td>1</td>\n",
       "      <td>1</td>\n",
       "      <td>2</td>\n",
       "      <td>2.0</td>\n",
       "      <td>3</td>\n",
       "      <td>1</td>\n",
       "      <td>1</td>\n",
       "      <td>2</td>\n",
       "    </tr>\n",
       "    <tr>\n",
       "      <th>3</th>\n",
       "      <td>6</td>\n",
       "      <td>8</td>\n",
       "      <td>8</td>\n",
       "      <td>1</td>\n",
       "      <td>3</td>\n",
       "      <td>4.0</td>\n",
       "      <td>3</td>\n",
       "      <td>7</td>\n",
       "      <td>1</td>\n",
       "      <td>2</td>\n",
       "    </tr>\n",
       "    <tr>\n",
       "      <th>4</th>\n",
       "      <td>4</td>\n",
       "      <td>1</td>\n",
       "      <td>1</td>\n",
       "      <td>3</td>\n",
       "      <td>2</td>\n",
       "      <td>1.0</td>\n",
       "      <td>3</td>\n",
       "      <td>1</td>\n",
       "      <td>1</td>\n",
       "      <td>2</td>\n",
       "    </tr>\n",
       "  </tbody>\n",
       "</table>\n",
       "</div>"
      ],
      "text/plain": [
       "   F1  F2  F3  F4  F5    F6  F7  F8  F9  Class\n",
       "0   5   1   1   1   2   1.0   3   1   1      2\n",
       "1   5   4   4   5   7  10.0   3   2   1      2\n",
       "2   3   1   1   1   2   2.0   3   1   1      2\n",
       "3   6   8   8   1   3   4.0   3   7   1      2\n",
       "4   4   1   1   3   2   1.0   3   1   1      2"
      ]
     },
     "execution_count": 60,
     "metadata": {},
     "output_type": "execute_result"
    }
   ],
   "source": [
    "data=pd.read_csv('breast-cancer-wisconsin.csv',na_values= \"?\")\n",
    "#Dropping rows with NAs\n",
    "data=data.dropna()\n",
    "#Dropping Sample ID Column\n",
    "data=data.iloc[:,1:]\n",
    "print(\"Original Shape: \"+str(data.shape))\n",
    "data.head()"
   ]
  },
  {
   "cell_type": "code",
   "execution_count": 61,
   "id": "2004eff3",
   "metadata": {
    "ExecuteTime": {
     "end_time": "2022-11-17T20:13:56.774600Z",
     "start_time": "2022-11-17T20:13:56.768747Z"
    }
   },
   "outputs": [],
   "source": [
    "#Shuffling Entries\n",
    "data=data.sample(frac=1).reset_index(drop=True)\n",
    "#70/30 split into train/test data\n",
    "train_size=int(np.floor(data.shape[0]*.7))\n",
    "train=data.iloc[0:train_size,:].reset_index(drop=True)\n",
    "test=data.iloc[train_size:,:].reset_index(drop=True)\n",
    "del train_size"
   ]
  },
  {
   "cell_type": "code",
   "execution_count": 62,
   "id": "195c3465",
   "metadata": {
    "ExecuteTime": {
     "end_time": "2022-11-17T20:13:58.458793Z",
     "start_time": "2022-11-17T20:13:58.455029Z"
    }
   },
   "outputs": [],
   "source": [
    "#Node class: Contains col<=cond & destination path\n",
    "class Node:\n",
    "    def __init__(self,Col,Cond,Path,Leaf):\n",
    "        self.Col=Col\n",
    "        self.Cond=Cond\n",
    "        self.Path=Path\n",
    "        self.Leaf=Leaf"
   ]
  },
  {
   "cell_type": "code",
   "execution_count": 112,
   "id": "a173e801",
   "metadata": {
    "ExecuteTime": {
     "end_time": "2022-11-17T21:22:29.039394Z",
     "start_time": "2022-11-17T21:22:29.027965Z"
    }
   },
   "outputs": [],
   "source": [
    "#Defining Function to get Information Gain of split\n",
    "def getIG(data,colname,val):\n",
    "    #Splitting based on condition\n",
    "    left_data=data[data[colname]<=val]\n",
    "    right_data=data[data[colname]>val]\n",
    "    #Composition of class frequency\n",
    "    P_comp=data[\"Class\"].value_counts()\n",
    "    L_comp=left_data[\"Class\"].value_counts()\n",
    "    R_comp=right_data[\"Class\"].value_counts()\n",
    "    \n",
    "    #Calculating Probabilities\n",
    "    #Very ugly solution but extracting info from value_counts series was a headache\n",
    "    #Mainly b/c the series can be of size 1 or 2,\n",
    "    #and the order of \"2\" count & \"4\" count will be inconsistent\n",
    "    P_two_count=P_four_count=L_two_count=L_four_count=R_two_count=R_four_count=0\n",
    "    for i in range(P_comp.size):\n",
    "        if(P_comp.index[i]==2):\n",
    "            P_two_count=P_comp.iloc[i]  \n",
    "        else:\n",
    "            P_four_count=P_comp.iloc[i]\n",
    "    for i in range(L_comp.size):\n",
    "        if(L_comp.index[i]==2):\n",
    "            L_two_count=L_comp.iloc[i]  \n",
    "        else:\n",
    "            L_four_count=L_comp.iloc[i]\n",
    "    for i in range(R_comp.size):\n",
    "        if(R_comp.index[i]==2):\n",
    "            R_two_count=R_comp.iloc[i]  \n",
    "        else:\n",
    "            R_four_count=R_comp.iloc[i]\n",
    "    P_size=data.shape[0]\n",
    "    L_size=left_data.shape[0]\n",
    "    R_size=right_data.shape[0]\n",
    "    P_two_prob=P_two_count/P_size if(P_size>0) else 0\n",
    "    P_four_prob=P_four_count/P_size if(P_size>0) else 0\n",
    "    L_two_prob=L_two_count/L_size if(L_size>0) else 0\n",
    "    L_four_prob=L_four_count/L_size if(L_size>0) else 0\n",
    "    R_two_prob=R_two_count/R_size if(R_size>0) else 0\n",
    "    R_four_prob=R_four_count/R_size if(R_size>0) else 0\n",
    "    #Calculating Entropies\n",
    "    P_two_log=math.log(P_two_prob,2) if(P_two_count!=0) else 0\n",
    "    P_four_log=math.log(P_four_prob,2) if(P_four_count!=0) else 0\n",
    "    L_two_log=math.log(L_two_prob,2) if(L_two_count!=0) else 0\n",
    "    L_four_log=math.log(L_four_prob,2) if(L_four_count!=0) else 0\n",
    "    R_two_log=math.log(R_two_prob,2) if(R_two_count!=0) else 0\n",
    "    R_four_log=math.log(R_four_prob,2) if(R_four_count!=0) else 0\n",
    "    P_ent=-((P_two_prob*P_two_log)+(P_four_prob*P_four_log))\n",
    "    L_ent=-((L_two_prob*L_two_log)+(L_four_prob*L_four_log))\n",
    "    R_ent=-((R_two_prob*R_two_log)+(R_four_prob*R_four_log))\n",
    "    #Calculating information gain\n",
    "    Split_ent=(L_ent*(L_size/P_size))+(R_ent*(R_size/P_size))\n",
    "    IG=P_ent-Split_ent\n",
    "    #Determining most frequent class in Left&Right split\n",
    "    if(L_two_prob>L_four_prob):\n",
    "        L_class=2\n",
    "    else:\n",
    "        L_class=4\n",
    "    if(R_two_prob>R_four_prob):\n",
    "        R_class=2\n",
    "    else:\n",
    "        R_class=4\n",
    "    #Returning IG, most freq. class&entropy of Left&Right\n",
    "    return IG,L_ent,L_class,R_ent,R_class,L_size,R_size,L_two_count,L_four_count,R_two_count,R_four_count"
   ]
  },
  {
   "cell_type": "code",
   "execution_count": 115,
   "id": "61c03644",
   "metadata": {
    "ExecuteTime": {
     "end_time": "2022-11-17T21:23:25.414902Z",
     "start_time": "2022-11-17T21:23:25.405052Z"
    }
   },
   "outputs": [],
   "source": [
    "#Defining Function to grow tree\n",
    "def growTree(data,path):\n",
    "    # \"B\" prefix for best\n",
    "    B_IG=0\n",
    "    B_colname=\"\"\n",
    "    B_cond=0\n",
    "    B_L_ent=-1\n",
    "    B_L_class=-1\n",
    "    B_R_ent=-1\n",
    "    B_R_class=-1\n",
    "    B_L_size=0\n",
    "    B_R_size=0\n",
    "    BLtc=BLfc=BRtc=BRfc=0\n",
    "    #loop through F1-F10\n",
    "    for f in range(9):\n",
    "        colname=\"F\"+str(f+1)\n",
    "        #loop through possible value splits 2-9 (1&10 is no split b/c cond. is <=)\n",
    "        for v in range(2,10):\n",
    "            IG,L_ent,L_class,R_ent,R_class,L_size,R_size,BLtc,BLfc,BRtc,BRfc=getIG(data,colname,v)\n",
    "            #Store info with best IG\n",
    "            if(IG>B_IG):\n",
    "                B_IG=IG\n",
    "                B_colname=colname\n",
    "                B_cond=v\n",
    "                B_L_ent=L_ent\n",
    "                B_L_class=L_class\n",
    "                B_R_ent=R_ent\n",
    "                B_R_class=R_class\n",
    "                B_L_size=L_size\n",
    "                B_R_size=R_size\n",
    "    print(\"Path: \"+path)\n",
    "    print(B_colname+\"<=\"+str(B_cond)+\" IG: \"+str(round(B_IG,4)))\n",
    "    print(\"Left Entropy: \"+str(round(B_L_ent,4))+\"  Best Class: \"+\n",
    "          str(B_L_class)+\"  Size: \"+str(B_L_size)+\"  2s': \"+str(BLtc)+\"  4s': \"+str(BLfc))\n",
    "    print(\"Right Entropy: \"+str(round(B_R_ent,4))+\"  Best Class: \"+\n",
    "          str(B_R_class)+\"  Size: \"+str(B_R_size)+\"  2s': \"+str(BRtc)+\"  4s': \"+str(BRfc))\n",
    "    \n",
    "    #Adding Node with colname<=cond & path\n",
    "    nodes.append(Node(B_colname,B_cond,path,None))\n",
    "    \n",
    "    #Continuing Tree\n",
    "    #Splitting Data on best condition\n",
    "    left_split=data[data[B_colname]<=B_cond]\n",
    "    right_split=data[data[B_colname]>B_cond]\n",
    "    #Left\n",
    "    L_path=path+\"l\"\n",
    "    #If left entropy=0, add leaf with best left class & end branch\n",
    "    if(B_L_ent==0):\n",
    "        nodes.append(Node(None,None,L_path,B_L_class))\n",
    "    #Else continue growing branch\n",
    "    else:\n",
    "        growTree(left_split,L_path)\n",
    "    #Right\n",
    "    R_path=path+\"r\"\n",
    "    #If right entropy=0, add leaf with best left class & end branch\n",
    "    if(B_R_ent==0):\n",
    "        nodes.append(Node(None,None,R_path,B_R_class))\n",
    "    #Else continue growing branch\n",
    "    else:\n",
    "        growTree(right_split,R_path)    "
   ]
  },
  {
   "cell_type": "code",
   "execution_count": 116,
   "id": "67d930cf",
   "metadata": {
    "ExecuteTime": {
     "end_time": "2022-11-17T21:23:28.618355Z",
     "start_time": "2022-11-17T21:23:25.790536Z"
    }
   },
   "outputs": [
    {
     "name": "stdout",
     "output_type": "stream",
     "text": [
      "Path: \n",
      "F2<=2 IG: 0.5851\n",
      "Left Entropy: 0.1632  Best Class: 2  Size: 292  2s': 314  4s': 153\n",
      "Right Entropy: 0.6244  Best Class: 4  Size: 186  2s': 0  4s': 11\n",
      "Path: l\n",
      "F6<=5 IG: 0.1043\n",
      "Left Entropy: 0.0599  Best Class: 2  Size: 287  2s': 285  4s': 7\n",
      "Right Entropy: -0.0  Best Class: 4  Size: 5  2s': 0  4s': 0\n",
      "Path: ll\n",
      "F6<=2 IG: 0.0303\n",
      "Left Entropy: -0.0  Best Class: 2  Size: 272  2s': 285  4s': 2\n",
      "Right Entropy: 0.5665  Best Class: 2  Size: 15  2s': 0  4s': 0\n",
      "Path: llr\n",
      "F1<=3 IG: 0.2429\n",
      "Left Entropy: -0.0  Best Class: 2  Size: 10  2s': 13  4s': 2\n",
      "Right Entropy: 0.971  Best Class: 2  Size: 5  2s': 0  4s': 0\n",
      "Path: llrr\n",
      "F1<=5 IG: 0.3219\n",
      "Left Entropy: 0.8113  Best Class: 2  Size: 4  2s': 3  4s': 2\n",
      "Right Entropy: -0.0  Best Class: 4  Size: 1  2s': 0  4s': 0\n",
      "Path: llrrl\n",
      "F4<=2 IG: 0.3113\n",
      "Left Entropy: -0.0  Best Class: 2  Size: 2  2s': 3  4s': 1\n",
      "Right Entropy: 1.0  Best Class: 4  Size: 2  2s': 0  4s': 0\n",
      "Path: llrrlr\n",
      "F1<=4 IG: 1.0\n",
      "Left Entropy: -0.0  Best Class: 4  Size: 1  2s': 1  4s': 1\n",
      "Right Entropy: -0.0  Best Class: 2  Size: 1  2s': 0  4s': 0\n",
      "Path: r\n",
      "F2<=4 IG: 0.2032\n",
      "Left Entropy: 0.9792  Best Class: 4  Size: 65  2s': 29  4s': 146\n",
      "Right Entropy: 0.1215  Best Class: 4  Size: 121  2s': 0  4s': 11\n",
      "Path: rl\n",
      "F6<=2 IG: 0.2895\n",
      "Left Entropy: 0.6666  Best Class: 2  Size: 23  2s': 27  4s': 37\n",
      "Right Entropy: 0.7025  Best Class: 4  Size: 42  2s': 0  4s': 1\n",
      "Path: rll\n",
      "F8<=2 IG: 0.2788\n",
      "Left Entropy: -0.0  Best Class: 2  Size: 14  2s': 19  4s': 3\n",
      "Right Entropy: 0.9911  Best Class: 2  Size: 9  2s': 0  4s': 1\n",
      "Path: rllr\n",
      "F4<=3 IG: 0.3198\n",
      "Left Entropy: 0.8631  Best Class: 2  Size: 7  2s': 5  4s': 3\n",
      "Right Entropy: -0.0  Best Class: 4  Size: 2  2s': 0  4s': 1\n",
      "Path: rllrl\n",
      "F1<=5 IG: 0.4696\n",
      "Left Entropy: -0.0  Best Class: 2  Size: 4  2s': 5  4s': 1\n",
      "Right Entropy: 0.9183  Best Class: 4  Size: 3  2s': 0  4s': 1\n",
      "Path: rllrlr\n",
      "F3<=4 IG: 0.9183\n",
      "Left Entropy: -0.0  Best Class: 4  Size: 2  2s': 1  4s': 1\n",
      "Right Entropy: -0.0  Best Class: 2  Size: 1  2s': 0  4s': 1\n",
      "Path: rlr\n",
      "F1<=6 IG: 0.192\n",
      "Left Entropy: 0.9321  Best Class: 4  Size: 23  2s': 8  4s': 34\n",
      "Right Entropy: -0.0  Best Class: 4  Size: 19  2s': 0  4s': 0\n",
      "Path: rlrl\n",
      "F7<=3 IG: 0.1293\n",
      "Left Entropy: 0.9544  Best Class: 2  Size: 8  2s': 8  4s': 15\n",
      "Right Entropy: 0.7219  Best Class: 4  Size: 15  2s': 0  4s': 0\n",
      "Path: rlrll\n",
      "F2<=3 IG: 0.3476\n",
      "Left Entropy: 0.971  Best Class: 4  Size: 5  2s': 5  4s': 3\n",
      "Right Entropy: -0.0  Best Class: 2  Size: 3  2s': 0  4s': 0\n",
      "Path: rlrlll\n",
      "F4<=4 IG: 0.971\n",
      "Left Entropy: -0.0  Best Class: 4  Size: 3  2s': 2  4s': 3\n",
      "Right Entropy: -0.0  Best Class: 2  Size: 2  2s': 0  4s': 0\n",
      "Path: rlrlr\n",
      "F6<=5 IG: 0.3219\n",
      "Left Entropy: 1.0  Best Class: 4  Size: 6  2s': 3  4s': 12\n",
      "Right Entropy: -0.0  Best Class: 4  Size: 9  2s': 0  4s': 0\n",
      "Path: rlrlrl\n",
      "F5<=3 IG: 1.0\n",
      "Left Entropy: -0.0  Best Class: 4  Size: 3  2s': 3  4s': 3\n",
      "Right Entropy: -0.0  Best Class: 2  Size: 3  2s': 0  4s': 0\n",
      "Path: rr\n",
      "F7<=4 IG: 0.0315\n",
      "Left Entropy: 0.3298  Best Class: 4  Size: 33  2s': 2  4s': 109\n",
      "Right Entropy: -0.0  Best Class: 4  Size: 88  2s': 0  4s': 10\n",
      "Path: rrl\n",
      "F1<=6 IG: 0.0935\n",
      "Left Entropy: 0.65  Best Class: 4  Size: 12  2s': 2  4s': 27\n",
      "Right Entropy: -0.0  Best Class: 4  Size: 21  2s': 0  4s': 4\n",
      "Path: rrll\n",
      "F2<=6 IG: 0.2455\n",
      "Left Entropy: -0.0  Best Class: 4  Size: 7  2s': 2  4s': 9\n",
      "Right Entropy: 0.971  Best Class: 4  Size: 5  2s': 0  4s': 1\n",
      "Path: rrllr\n",
      "F2<=9 IG: 0.971\n",
      "Left Entropy: -0.0  Best Class: 2  Size: 2  2s': 2  4s': 2\n",
      "Right Entropy: -0.0  Best Class: 4  Size: 3  2s': 0  4s': 1\n"
     ]
    }
   ],
   "source": [
    "#Training\n",
    "nodes=[]\n",
    "growTree(train,\"\")"
   ]
  },
  {
   "cell_type": "code",
   "execution_count": 102,
   "id": "ed33d0ce",
   "metadata": {
    "ExecuteTime": {
     "end_time": "2022-11-17T20:54:24.387610Z",
     "start_time": "2022-11-17T20:54:24.382345Z"
    }
   },
   "outputs": [
    {
     "name": "stdout",
     "output_type": "stream",
     "text": [
      " F2<=2\n",
      "l F6<=5\n",
      "ll F6<=2\n",
      "lll 4\n",
      "llr F1<=3\n",
      "llrl 4\n",
      "llrr F1<=5\n",
      "llrrl F4<=2\n",
      "llrrll 4\n",
      "llrrlr F1<=4\n",
      "llrrlrl 4\n",
      "llrrlrr 4\n",
      "llrrr 4\n",
      "lr 4\n",
      "r F2<=4\n",
      "rl F6<=2\n",
      "rll F8<=2\n",
      "rlll 4\n",
      "rllr F4<=3\n",
      "rllrl F1<=5\n",
      "rllrll 4\n",
      "rllrlr F3<=4\n",
      "rllrlrl 4\n",
      "rllrlrr 4\n",
      "rllrr 4\n",
      "rlr F1<=6\n",
      "rlrl F7<=3\n",
      "rlrll F2<=3\n",
      "rlrlll F4<=4\n",
      "rlrllll 4\n",
      "rlrlllr 4\n",
      "rlrllr 4\n",
      "rlrlr F6<=5\n",
      "rlrlrl F5<=3\n",
      "rlrlrll 4\n",
      "rlrlrlr 4\n",
      "rlrlrr 4\n",
      "rlrr 4\n",
      "rr F7<=4\n",
      "rrl F1<=6\n",
      "rrll F2<=6\n",
      "rrlll 4\n",
      "rrllr F2<=9\n",
      "rrllrl 4\n",
      "rrllrr 4\n",
      "rrlr 4\n",
      "rrr 4\n"
     ]
    }
   ],
   "source": [
    "#Visualizing\n",
    "for i in range(len(nodes)):\n",
    "    if(nodes[i].Leaf==None):\n",
    "        print(str(nodes[i].Path)+\" \"+str(nodes[i].Col)+\"<=\"+str(nodes[i].Cond))\n",
    "    else:\n",
    "        print(str(nodes[i].Path)+\" \"+str(nodes[i].Leaf))"
   ]
  },
  {
   "cell_type": "code",
   "execution_count": 103,
   "id": "f5a03cd6",
   "metadata": {
    "ExecuteTime": {
     "end_time": "2022-11-17T20:54:26.994805Z",
     "start_time": "2022-11-17T20:54:26.976692Z"
    }
   },
   "outputs": [
    {
     "name": "stdout",
     "output_type": "stream",
     "text": [
      "Accuracy: 0.36585365853658536\n"
     ]
    }
   ],
   "source": [
    "#Testing\n",
    "count=0\n",
    "#Looping through all rows in test\n",
    "for r in range(test.shape[0]):\n",
    "    truth=test.loc[r,'Class']\n",
    "    pred=0\n",
    "    path=\"\"\n",
    "    #Navigating Tree\n",
    "    while(pred==0):\n",
    "        loc=-1\n",
    "        #Searching Tree for matching node\n",
    "        for i in range(len(nodes)):\n",
    "            if(nodes[i].Path==path):\n",
    "                loc=i\n",
    "                break\n",
    "        #Testing if node is leaf\n",
    "        if(nodes[i].Leaf==None):\n",
    "            #print(str(nodes[loc].Path)+\" \"+str(test.loc[r,nodes[loc].Col])+\"<=\"+str(nodes[loc].Cond))\n",
    "            #Evaluating Condition\n",
    "            if(test.loc[r,nodes[loc].Col]<=nodes[loc].Cond):\n",
    "                path+=\"l\"\n",
    "            else:\n",
    "                path+=\"r\"\n",
    "        else:\n",
    "            pred=nodes[i].Leaf\n",
    "            #print(\"Pred \"+str(pred)+\" Truth: \"+str(truth))\n",
    "            if(pred==truth):\n",
    "                count+=1\n",
    "print(\"Accuracy: \"+str(count/test.shape[0]))"
   ]
  },
  {
   "cell_type": "code",
   "execution_count": null,
   "id": "897598bf",
   "metadata": {},
   "outputs": [],
   "source": []
  }
 ],
 "metadata": {
  "kernelspec": {
   "display_name": "Python 3 (ipykernel)",
   "language": "python",
   "name": "python3"
  },
  "language_info": {
   "codemirror_mode": {
    "name": "ipython",
    "version": 3
   },
   "file_extension": ".py",
   "mimetype": "text/x-python",
   "name": "python",
   "nbconvert_exporter": "python",
   "pygments_lexer": "ipython3",
   "version": "3.9.12"
  },
  "varInspector": {
   "cols": {
    "lenName": 16,
    "lenType": 16,
    "lenVar": 40
   },
   "kernels_config": {
    "python": {
     "delete_cmd_postfix": "",
     "delete_cmd_prefix": "del ",
     "library": "var_list.py",
     "varRefreshCmd": "print(var_dic_list())"
    },
    "r": {
     "delete_cmd_postfix": ") ",
     "delete_cmd_prefix": "rm(",
     "library": "var_list.r",
     "varRefreshCmd": "cat(var_dic_list()) "
    }
   },
   "position": {
    "height": "797.666687px",
    "left": "1774px",
    "right": "20px",
    "top": "120px",
    "width": "733.333313px"
   },
   "types_to_exclude": [
    "module",
    "function",
    "builtin_function_or_method",
    "instance",
    "_Feature"
   ],
   "window_display": true
  }
 },
 "nbformat": 4,
 "nbformat_minor": 5
}
