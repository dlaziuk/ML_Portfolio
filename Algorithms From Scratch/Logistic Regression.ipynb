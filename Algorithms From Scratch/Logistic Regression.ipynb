{
 "cells": [
  {
   "cell_type": "code",
   "execution_count": 1,
   "id": "80a5db84",
   "metadata": {
    "ExecuteTime": {
     "end_time": "2023-02-24T00:50:19.171580Z",
     "start_time": "2023-02-24T00:50:19.168622Z"
    }
   },
   "outputs": [],
   "source": [
    "#\n",
    "# David Laziuk\n",
    "# Logistic Regression from scratch\n",
    "#"
   ]
  },
  {
   "cell_type": "markdown",
   "id": "1a006d13",
   "metadata": {},
   "source": [
    "# Two Methods Will Be Implemented:\n",
    "## 1. Stochastic Gradient Descent\n",
    "## 2. Analytical (Moore-Penrose pseudo inverse)"
   ]
  },
  {
   "cell_type": "code",
   "execution_count": 3,
   "id": "116b44ca",
   "metadata": {
    "ExecuteTime": {
     "end_time": "2023-02-24T00:50:35.660029Z",
     "start_time": "2023-02-24T00:50:35.635515Z"
    }
   },
   "outputs": [],
   "source": [
    "#Imports\n",
    "import random\n",
    "import numpy as np\n",
    "import pandas as pd\n",
    "#Loading Data\n",
    "data=pd.read_csv('breast-cancer-wisconsin.csv',na_values= \"?\")\n",
    "#Dropping rows with NAs\n",
    "data=data.dropna()\n",
    "#Fixing value type\n",
    "data['F6']=data['F6'].astype(int)\n",
    "#Mapping class(2/4) to (-1/1)\n",
    "data['Class']=data['Class'].replace(2,-1)\n",
    "data['Class']=data['Class'].replace(4,1)\n",
    "data['Class']=data['Class'].astype(int)\n",
    "#Dropping Sample Column\n",
    "try: data=data.drop('Sample',axis=1) \n",
    "except KeyError: pass\n",
    "#Standardizing (Z-Score Normalization)\n",
    "feats=data.columns[:-1]\n",
    "mean=data[feats].mean()\n",
    "std=data[feats].std()\n",
    "norm=(data[feats]-mean)/std\n",
    "data[feats]=norm\n",
    "#Shuffling Entries\n",
    "data=data.sample(frac=1).reset_index(drop=True)\n",
    "#70/30 split into train/test data\n",
    "train_size=int(np.floor(data.shape[0]*.7))\n",
    "features=(data.shape[1]-1)\n",
    "X_train=data.iloc[0:train_size,0:features].reset_index(drop=True).values\n",
    "X_test=data.iloc[train_size:,0:features].reset_index(drop=True).values\n",
    "y_train=data.iloc[0:train_size,features].reset_index(drop=True).values\n",
    "y_test=data.iloc[train_size:,features].reset_index(drop=True).values\n",
    "#Appending Bias Column\n",
    "X_train=np.concatenate((X_train,np.ones((X_train.shape[0],1))),axis=1)\n",
    "X_test=np.concatenate((X_test,np.ones((X_test.shape[0],1))),axis=1)\n",
    "del features,train_size,mean,std,feats,norm"
   ]
  },
  {
   "cell_type": "markdown",
   "id": "16818b8e",
   "metadata": {},
   "source": [
    "# 1. Stochastic Gradient Descent:"
   ]
  },
  {
   "cell_type": "code",
   "execution_count": 4,
   "id": "35fb436e",
   "metadata": {
    "ExecuteTime": {
     "end_time": "2023-02-24T00:50:41.342599Z",
     "start_time": "2023-02-24T00:50:41.331368Z"
    }
   },
   "outputs": [],
   "source": [
    "#SGD\n",
    "def grad(w,xi,yi):\n",
    "    yx=np.multiply(yi,xi)\n",
    "    yx=np.reshape(yx,(1,xi.shape[0]))\n",
    "    yxw=np.dot(yx,w)\n",
    "    grad=((-yx.T)/(1+np.exp(yxw)))\n",
    "    return grad\n",
    "\n",
    "def sgd(X_train,y_train,epochs,lr,X_test):\n",
    "    #Initializing Weights\n",
    "    w=np.zeros((X_train.shape[1],1))\n",
    "    #Iterating through epochs\n",
    "    for e in range(epochs):\n",
    "        #Randomly shuffling data every epoch\n",
    "        r=np.random.permutation(X_train.shape[0])\n",
    "        X_temp=X_train[r,:]\n",
    "        y_temp=y_train[r]\n",
    "        #Iterating through samples\n",
    "        for i in range(X_train.shape[0]):\n",
    "            #Extracting individual sample\n",
    "            xi=X_temp[i,:]\n",
    "            yi=y_temp[i]\n",
    "            g=grad(w,xi,yi)\n",
    "            w-=(lr*g)\n",
    "    #Finding Predictions From Learned Weight\n",
    "    z=np.dot(X_test,w)\n",
    "    #Sigmoid activation\n",
    "    sig=1/(1+np.exp(-z))\n",
    "    #Thresholding\n",
    "    y_pred=np.zeros((X_test.shape[0]))\n",
    "    for i in range(sig.shape[0]):\n",
    "        y_pred[i]=1 if(sig[i]>=.5) else -1\n",
    "    return y_pred\n",
    "\n",
    "#Adding Metrics Function\n",
    "def test(yp,yt):\n",
    "    fp,fn,tp,tn=0,0,0,0\n",
    "    for i in range(yp.shape[0]):\n",
    "        if(yt[i]==1 and yp[i]==1): tp+=1 \n",
    "        if(yt[i]==-1 and yp[i]==-1): tn+=1 \n",
    "        if(yt[i]==-1 and yp[i]==1): fp+=1 \n",
    "        if(yt[i]==1 and yp[i]==-1): fn+=1 \n",
    "    acc=(tp+tn)/yp.shape[0]\n",
    "    #Precision, Recall, F1 can be added\n",
    "    return acc"
   ]
  },
  {
   "cell_type": "code",
   "execution_count": 5,
   "id": "10f0b434",
   "metadata": {
    "ExecuteTime": {
     "end_time": "2023-02-24T00:50:47.333717Z",
     "start_time": "2023-02-24T00:50:46.555209Z"
    }
   },
   "outputs": [
    {
     "name": "stdout",
     "output_type": "stream",
     "text": [
      "Accuracy: 0.9853658536585366\n"
     ]
    }
   ],
   "source": [
    "#Testing SGD\n",
    "epochs=100\n",
    "learning_rate=.1\n",
    "y_pred=sgd(X_train,y_train,epochs,learning_rate,X_test)\n",
    "acc=test(y_pred,y_test)\n",
    "print(\"Accuracy: \"+str(acc))"
   ]
  },
  {
   "cell_type": "markdown",
   "id": "c120905d",
   "metadata": {},
   "source": [
    "# 2. Analytical (Moore-Penrose pseudo inverse)"
   ]
  },
  {
   "cell_type": "code",
   "execution_count": 6,
   "id": "ce6c0280",
   "metadata": {
    "ExecuteTime": {
     "end_time": "2023-02-24T00:50:49.949401Z",
     "start_time": "2023-02-24T00:50:49.939738Z"
    }
   },
   "outputs": [
    {
     "name": "stdout",
     "output_type": "stream",
     "text": [
      "Accuracy: 0.975609756097561\n"
     ]
    }
   ],
   "source": [
    "# Pseudo inverse\n",
    "X_pinv=np.linalg.pinv(X_train)\n",
    "w=np.dot(X_pinv,y_train)\n",
    "#Finding Predictions From Learned Weight\n",
    "z=np.dot(X_test,w)\n",
    "#Sigmoid activation\n",
    "sig=1/(1+np.exp(-z))\n",
    "#Thresholding\n",
    "y_pred=np.zeros((X_test.shape[0]))\n",
    "for i in range(sig.shape[0]):\n",
    "    y_pred[i]=1 if(sig[i]>=.5) else -1\n",
    "#Testing\n",
    "acc=test(y_pred,y_test)\n",
    "print(\"Accuracy: \"+str(acc))"
   ]
  }
 ],
 "metadata": {
  "kernelspec": {
   "display_name": "Python 3 (ipykernel)",
   "language": "python",
   "name": "python3"
  },
  "language_info": {
   "codemirror_mode": {
    "name": "ipython",
    "version": 3
   },
   "file_extension": ".py",
   "mimetype": "text/x-python",
   "name": "python",
   "nbconvert_exporter": "python",
   "pygments_lexer": "ipython3",
   "version": "3.9.12"
  },
  "varInspector": {
   "cols": {
    "lenName": 16,
    "lenType": 16,
    "lenVar": 40
   },
   "kernels_config": {
    "python": {
     "delete_cmd_postfix": "",
     "delete_cmd_prefix": "del ",
     "library": "var_list.py",
     "varRefreshCmd": "print(var_dic_list())"
    },
    "r": {
     "delete_cmd_postfix": ") ",
     "delete_cmd_prefix": "rm(",
     "library": "var_list.r",
     "varRefreshCmd": "cat(var_dic_list()) "
    }
   },
   "position": {
    "height": "501px",
    "left": "1240px",
    "right": "20px",
    "top": "96px",
    "width": "532.666687px"
   },
   "types_to_exclude": [
    "module",
    "function",
    "builtin_function_or_method",
    "instance",
    "_Feature"
   ],
   "window_display": true
  }
 },
 "nbformat": 4,
 "nbformat_minor": 5
}
