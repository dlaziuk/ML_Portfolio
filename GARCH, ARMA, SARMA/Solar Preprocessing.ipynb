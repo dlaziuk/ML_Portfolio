{
 "cells": [
  {
   "cell_type": "code",
   "execution_count": 1,
   "id": "66d39425",
   "metadata": {
    "ExecuteTime": {
     "end_time": "2023-05-01T19:16:21.979766Z",
     "start_time": "2023-05-01T19:16:20.107826Z"
    }
   },
   "outputs": [
    {
     "data": {
      "text/html": [
       "<div>\n",
       "<style scoped>\n",
       "    .dataframe tbody tr th:only-of-type {\n",
       "        vertical-align: middle;\n",
       "    }\n",
       "\n",
       "    .dataframe tbody tr th {\n",
       "        vertical-align: top;\n",
       "    }\n",
       "\n",
       "    .dataframe thead th {\n",
       "        text-align: right;\n",
       "    }\n",
       "</style>\n",
       "<table border=\"1\" class=\"dataframe\">\n",
       "  <thead>\n",
       "    <tr style=\"text-align: right;\">\n",
       "      <th></th>\n",
       "      <th>name</th>\n",
       "      <th>id</th>\n",
       "      <th>address</th>\n",
       "      <th>date</th>\n",
       "      <th>kWh</th>\n",
       "      <th>public_url</th>\n",
       "      <th>installationDate</th>\n",
       "      <th>uid</th>\n",
       "    </tr>\n",
       "  </thead>\n",
       "  <tbody>\n",
       "    <tr>\n",
       "      <th>0</th>\n",
       "      <td>Calgary Fire Hall Headquarters</td>\n",
       "      <td>314106</td>\n",
       "      <td>1212 42 AV SE</td>\n",
       "      <td>2017/09/11 08:00:00 AM</td>\n",
       "      <td>1.130</td>\n",
       "      <td>https://monitoring.solaredge.com/solaredge-web...</td>\n",
       "      <td>2016/11/07</td>\n",
       "      <td>3141062017-09-11 08:00:00</td>\n",
       "    </tr>\n",
       "    <tr>\n",
       "      <th>1</th>\n",
       "      <td>Calgary Fire Hall Headquarters</td>\n",
       "      <td>314106</td>\n",
       "      <td>1212 42 AV SE</td>\n",
       "      <td>2017/09/11 09:00:00 AM</td>\n",
       "      <td>2.340</td>\n",
       "      <td>https://monitoring.solaredge.com/solaredge-web...</td>\n",
       "      <td>2016/11/07</td>\n",
       "      <td>3141062017-09-11 09:00:00</td>\n",
       "    </tr>\n",
       "    <tr>\n",
       "      <th>2</th>\n",
       "      <td>Calgary Fire Hall Headquarters</td>\n",
       "      <td>314106</td>\n",
       "      <td>1212 42 AV SE</td>\n",
       "      <td>2017/09/11 10:00:00 AM</td>\n",
       "      <td>3.656</td>\n",
       "      <td>https://monitoring.solaredge.com/solaredge-web...</td>\n",
       "      <td>2016/11/07</td>\n",
       "      <td>3141062017-09-11 10:00:00</td>\n",
       "    </tr>\n",
       "    <tr>\n",
       "      <th>3</th>\n",
       "      <td>Calgary Fire Hall Headquarters</td>\n",
       "      <td>314106</td>\n",
       "      <td>1212 42 AV SE</td>\n",
       "      <td>2017/09/11 11:00:00 AM</td>\n",
       "      <td>4.577</td>\n",
       "      <td>https://monitoring.solaredge.com/solaredge-web...</td>\n",
       "      <td>2016/11/07</td>\n",
       "      <td>3141062017-09-11 11:00:00</td>\n",
       "    </tr>\n",
       "    <tr>\n",
       "      <th>4</th>\n",
       "      <td>Calgary Fire Hall Headquarters</td>\n",
       "      <td>314106</td>\n",
       "      <td>1212 42 AV SE</td>\n",
       "      <td>2017/09/11 12:00:00 PM</td>\n",
       "      <td>6.506</td>\n",
       "      <td>https://monitoring.solaredge.com/solaredge-web...</td>\n",
       "      <td>2016/11/07</td>\n",
       "      <td>3141062017-09-11 12:00:00</td>\n",
       "    </tr>\n",
       "  </tbody>\n",
       "</table>\n",
       "</div>"
      ],
      "text/plain": [
       "                             name      id        address  \\\n",
       "0  Calgary Fire Hall Headquarters  314106  1212 42 AV SE   \n",
       "1  Calgary Fire Hall Headquarters  314106  1212 42 AV SE   \n",
       "2  Calgary Fire Hall Headquarters  314106  1212 42 AV SE   \n",
       "3  Calgary Fire Hall Headquarters  314106  1212 42 AV SE   \n",
       "4  Calgary Fire Hall Headquarters  314106  1212 42 AV SE   \n",
       "\n",
       "                     date    kWh  \\\n",
       "0  2017/09/11 08:00:00 AM  1.130   \n",
       "1  2017/09/11 09:00:00 AM  2.340   \n",
       "2  2017/09/11 10:00:00 AM  3.656   \n",
       "3  2017/09/11 11:00:00 AM  4.577   \n",
       "4  2017/09/11 12:00:00 PM  6.506   \n",
       "\n",
       "                                          public_url installationDate  \\\n",
       "0  https://monitoring.solaredge.com/solaredge-web...       2016/11/07   \n",
       "1  https://monitoring.solaredge.com/solaredge-web...       2016/11/07   \n",
       "2  https://monitoring.solaredge.com/solaredge-web...       2016/11/07   \n",
       "3  https://monitoring.solaredge.com/solaredge-web...       2016/11/07   \n",
       "4  https://monitoring.solaredge.com/solaredge-web...       2016/11/07   \n",
       "\n",
       "                         uid  \n",
       "0  3141062017-09-11 08:00:00  \n",
       "1  3141062017-09-11 09:00:00  \n",
       "2  3141062017-09-11 10:00:00  \n",
       "3  3141062017-09-11 11:00:00  \n",
       "4  3141062017-09-11 12:00:00  "
      ]
     },
     "execution_count": 1,
     "metadata": {},
     "output_type": "execute_result"
    }
   ],
   "source": [
    "import pandas as pd\n",
    "from datetime import datetime\n",
    "import matplotlib.pyplot as plt\n",
    "# Load Data\n",
    "data=pd.read_csv('Solar.csv')\n",
    "data.head()"
   ]
  },
  {
   "cell_type": "code",
   "execution_count": 2,
   "id": "197b2faf",
   "metadata": {
    "ExecuteTime": {
     "end_time": "2023-05-01T19:16:25.187614Z",
     "start_time": "2023-05-01T19:16:25.150140Z"
    }
   },
   "outputs": [
    {
     "name": "stdout",
     "output_type": "stream",
     "text": [
      "Southland Leisure Centre                     31590\n",
      "Whitehorn Multi-Service Centre               27716\n",
      "City of Calgary North Corporate Warehouse    27092\n",
      "Richmond - Knob Hill Community Hall          26623\n",
      "Glenmore Water Treatment Plant               25920\n",
      "Calgary Fire Hall Headquarters               25637\n",
      "Bearspaw Water Treatment Plant               24869\n",
      "Hillhurst Sunnyside Community Association    23467\n",
      "CFD Firehall #7                              22659\n",
      "Manchester Building M                        22533\n",
      "Telus Spark                                    317\n",
      "Name: name, dtype: int64\n",
      "\n",
      "['Southland Leisure Centre', 'Whitehorn Multi-Service Centre', 'City of Calgary North Corporate Warehouse', 'Richmond - Knob Hill Community Hall', 'Glenmore Water Treatment Plant', 'Calgary Fire Hall Headquarters', 'Bearspaw Water Treatment Plant', 'Hillhurst Sunnyside Community Association', 'CFD Firehall #7', 'Manchester Building M', 'Telus Spark']\n"
     ]
    }
   ],
   "source": [
    "# Show frequency of various locations\n",
    "print(data['name'].value_counts())\n",
    "print()\n",
    "locations=list(data['name'].value_counts().index)\n",
    "print(locations)"
   ]
  },
  {
   "cell_type": "code",
   "execution_count": 13,
   "id": "6d72c3d8",
   "metadata": {
    "ExecuteTime": {
     "end_time": "2023-05-01T19:26:08.913249Z",
     "start_time": "2023-05-01T19:26:05.906518Z"
    }
   },
   "outputs": [
    {
     "name": "stdout",
     "output_type": "stream",
     "text": [
      "date\n",
      "2016-01-31     3081.863\n",
      "2016-02-29     9544.109\n",
      "2016-03-31    18105.476\n",
      "2016-04-30    21241.109\n",
      "2016-05-31    22154.348\n",
      "Name: kWh, dtype: float64\n",
      "date\n",
      "2020-08-31    25900.142\n",
      "2020-09-30    17154.487\n",
      "2020-10-31     7728.751\n",
      "2020-11-30     3749.765\n",
      "2020-12-31     1250.840\n",
      "Name: kWh, dtype: float64\n"
     ]
    },
    {
     "data": {
      "text/plain": [
       "<AxesSubplot:xlabel='date'>"
      ]
     },
     "execution_count": 13,
     "metadata": {},
     "output_type": "execute_result"
    },
    {
     "data": {
      "image/png": "[encoded data removed]",
      "text/plain": [
       "<Figure size 640x480 with 1 Axes>"
      ]
     },
     "metadata": {},
     "output_type": "display_data"
    }
   ],
   "source": [
    "#Extract SLC\n",
    "SLC = data[data['name'] == 'Southland Leisure Centre'][['date', 'kWh']].reset_index(drop=True)\n",
    "#Convert SLC to datetime\n",
    "SLC['date']=pd.to_datetime(SLC['date'])\n",
    "#Sort\n",
    "SLC=SLC.sort_values(by='date')\n",
    "#Group by month\n",
    "SLC=SLC.groupby(pd.Grouper(key='date',freq='M')).sum()\n",
    "SLC=SLC.reset_index()\n",
    "#Cut 2016->2021\n",
    "start_date=datetime(2016,1,1)\n",
    "end_date=datetime(2021,1,1)\n",
    "SLC_filtered = SLC[(SLC['date'] >= start_date) & (SLC['date'] < end_date)].reset_index(drop=True)\n",
    "SLC= SLC_filtered.set_index('date')['kWh'].squeeze()\n",
    "print(SLC.head())\n",
    "print(SLC.tail())\n",
    "SLC.plot()"
   ]
  },
  {
   "cell_type": "code",
   "execution_count": 14,
   "id": "52a2f455",
   "metadata": {
    "ExecuteTime": {
     "end_time": "2023-05-01T19:26:35.779819Z",
     "start_time": "2023-05-01T19:26:35.769889Z"
    }
   },
   "outputs": [],
   "source": [
    "SLC.to_csv('SLC.csv')"
   ]
  },
  {
   "cell_type": "code",
   "execution_count": null,
   "id": "830df009",
   "metadata": {},
   "outputs": [],
   "source": []
  }
 ],
 "metadata": {
  "kernelspec": {
   "display_name": "Python 3 (ipykernel)",
   "language": "python",
   "name": "python3"
  },
  "language_info": {
   "codemirror_mode": {
    "name": "ipython",
    "version": 3
   },
   "file_extension": ".py",
   "mimetype": "text/x-python",
   "name": "python",
   "nbconvert_exporter": "python",
   "pygments_lexer": "ipython3",
   "version": "3.10.8"
  },
  "toc": {
   "base_numbering": 1,
   "nav_menu": {},
   "number_sections": true,
   "sideBar": true,
   "skip_h1_title": false,
   "title_cell": "Table of Contents",
   "title_sidebar": "Contents",
   "toc_cell": false,
   "toc_position": {},
   "toc_section_display": true,
   "toc_window_display": false
  },
  "varInspector": {
   "cols": {
    "lenName": 16,
    "lenType": 16,
    "lenVar": "400"
   },
   "kernels_config": {
    "python": {
     "delete_cmd_postfix": "",
     "delete_cmd_prefix": "del ",
     "library": "var_list.py",
     "varRefreshCmd": "print(var_dic_list())"
    },
    "r": {
     "delete_cmd_postfix": ") ",
     "delete_cmd_prefix": "rm(",
     "library": "var_list.r",
     "varRefreshCmd": "cat(var_dic_list()) "
    }
   },
   "position": {
    "height": "388px",
    "left": "1190px",
    "right": "20px",
    "top": "92px",
    "width": "800px"
   },
   "types_to_exclude": [
    "module",
    "function",
    "builtin_function_or_method",
    "instance",
    "_Feature"
   ],
   "window_display": true
  }
 },
 "nbformat": 4,
 "nbformat_minor": 5
}
