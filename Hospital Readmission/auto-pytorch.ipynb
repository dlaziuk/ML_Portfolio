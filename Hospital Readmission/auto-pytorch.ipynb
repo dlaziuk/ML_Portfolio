{
 "cells": [
  {
   "cell_type": "code",
   "execution_count": null,
   "id": "85a069d8",
   "metadata": {},
   "outputs": [],
   "source": [
    "#\n",
    "# David Laziuk\n",
    "# \n",
    "# Experimenting with Auto-Pytorch package created by AutoML\n",
    "#"
   ]
  },
  {
   "cell_type": "code",
   "execution_count": null,
   "id": "cc463f7d",
   "metadata": {},
   "outputs": [],
   "source": [
    "#Only works on Linux systems"
   ]
  },
  {
   "cell_type": "code",
   "execution_count": 1,
   "id": "51bb93c8",
   "metadata": {},
   "outputs": [],
   "source": [
    "import os\n",
    "import tempfile as tmp\n",
    "import warnings\n",
    "\n",
    "from autoPyTorch.datasets.resampling_strategy import CrossValTypes\n",
    "\n",
    "os.environ['JOBLIB_TEMP_FOLDER'] = tmp.gettempdir()\n",
    "os.environ['OMP_NUM_THREADS'] = '1'\n",
    "os.environ['OPENBLAS_NUM_THREADS'] = '1'\n",
    "os.environ['MKL_NUM_THREADS'] = '1'\n",
    "\n",
    "warnings.simplefilter(action='ignore', category=UserWarning)\n",
    "warnings.simplefilter(action='ignore', category=FutureWarning)\n",
    "\n",
    "import sklearn.model_selection\n",
    "import pandas as pd\n",
    "from sklearn import metrics\n",
    "\n",
    "from autoPyTorch.api.tabular_classification import TabularClassificationTask"
   ]
  },
  {
   "cell_type": "code",
   "execution_count": 2,
   "id": "67f38180",
   "metadata": {},
   "outputs": [
    {
     "data": {
      "text/html": [
       "<div>\n",
       "<style scoped>\n",
       "    .dataframe tbody tr th:only-of-type {\n",
       "        vertical-align: middle;\n",
       "    }\n",
       "\n",
       "    .dataframe tbody tr th {\n",
       "        vertical-align: top;\n",
       "    }\n",
       "\n",
       "    .dataframe thead th {\n",
       "        text-align: right;\n",
       "    }\n",
       "</style>\n",
       "<table border=\"1\" class=\"dataframe\">\n",
       "  <thead>\n",
       "    <tr style=\"text-align: right;\">\n",
       "      <th></th>\n",
       "      <th>race</th>\n",
       "      <th>gender</th>\n",
       "      <th>age</th>\n",
       "      <th>admission_type_id</th>\n",
       "      <th>discharge_disposition_id</th>\n",
       "      <th>admission_source_id</th>\n",
       "      <th>time_in_hospital</th>\n",
       "      <th>num_lab_procedures</th>\n",
       "      <th>num_procedures</th>\n",
       "      <th>num_medications</th>\n",
       "      <th>...</th>\n",
       "      <th>citoglipton</th>\n",
       "      <th>insulin</th>\n",
       "      <th>glyburide-metformin</th>\n",
       "      <th>glipizide-metformin</th>\n",
       "      <th>glimepiride-pioglitazone</th>\n",
       "      <th>metformin-rosiglitazone</th>\n",
       "      <th>metformin-pioglitazone</th>\n",
       "      <th>change</th>\n",
       "      <th>diabetesMed</th>\n",
       "      <th>readmitted</th>\n",
       "    </tr>\n",
       "  </thead>\n",
       "  <tbody>\n",
       "    <tr>\n",
       "      <th>0</th>\n",
       "      <td>3</td>\n",
       "      <td>0</td>\n",
       "      <td>0</td>\n",
       "      <td>5</td>\n",
       "      <td>23</td>\n",
       "      <td>0</td>\n",
       "      <td>1</td>\n",
       "      <td>41</td>\n",
       "      <td>0</td>\n",
       "      <td>1</td>\n",
       "      <td>...</td>\n",
       "      <td>0</td>\n",
       "      <td>1</td>\n",
       "      <td>1</td>\n",
       "      <td>0</td>\n",
       "      <td>0</td>\n",
       "      <td>0</td>\n",
       "      <td>0</td>\n",
       "      <td>1</td>\n",
       "      <td>0</td>\n",
       "      <td>0</td>\n",
       "    </tr>\n",
       "    <tr>\n",
       "      <th>1</th>\n",
       "      <td>3</td>\n",
       "      <td>0</td>\n",
       "      <td>1</td>\n",
       "      <td>0</td>\n",
       "      <td>0</td>\n",
       "      <td>6</td>\n",
       "      <td>3</td>\n",
       "      <td>59</td>\n",
       "      <td>0</td>\n",
       "      <td>18</td>\n",
       "      <td>...</td>\n",
       "      <td>0</td>\n",
       "      <td>3</td>\n",
       "      <td>1</td>\n",
       "      <td>0</td>\n",
       "      <td>0</td>\n",
       "      <td>0</td>\n",
       "      <td>0</td>\n",
       "      <td>0</td>\n",
       "      <td>1</td>\n",
       "      <td>1</td>\n",
       "    </tr>\n",
       "    <tr>\n",
       "      <th>2</th>\n",
       "      <td>1</td>\n",
       "      <td>0</td>\n",
       "      <td>2</td>\n",
       "      <td>0</td>\n",
       "      <td>0</td>\n",
       "      <td>6</td>\n",
       "      <td>2</td>\n",
       "      <td>11</td>\n",
       "      <td>5</td>\n",
       "      <td>13</td>\n",
       "      <td>...</td>\n",
       "      <td>0</td>\n",
       "      <td>1</td>\n",
       "      <td>1</td>\n",
       "      <td>0</td>\n",
       "      <td>0</td>\n",
       "      <td>0</td>\n",
       "      <td>0</td>\n",
       "      <td>1</td>\n",
       "      <td>1</td>\n",
       "      <td>0</td>\n",
       "    </tr>\n",
       "    <tr>\n",
       "      <th>3</th>\n",
       "      <td>3</td>\n",
       "      <td>1</td>\n",
       "      <td>3</td>\n",
       "      <td>0</td>\n",
       "      <td>0</td>\n",
       "      <td>6</td>\n",
       "      <td>2</td>\n",
       "      <td>44</td>\n",
       "      <td>1</td>\n",
       "      <td>16</td>\n",
       "      <td>...</td>\n",
       "      <td>0</td>\n",
       "      <td>3</td>\n",
       "      <td>1</td>\n",
       "      <td>0</td>\n",
       "      <td>0</td>\n",
       "      <td>0</td>\n",
       "      <td>0</td>\n",
       "      <td>0</td>\n",
       "      <td>1</td>\n",
       "      <td>0</td>\n",
       "    </tr>\n",
       "    <tr>\n",
       "      <th>4</th>\n",
       "      <td>3</td>\n",
       "      <td>1</td>\n",
       "      <td>4</td>\n",
       "      <td>0</td>\n",
       "      <td>0</td>\n",
       "      <td>6</td>\n",
       "      <td>1</td>\n",
       "      <td>51</td>\n",
       "      <td>0</td>\n",
       "      <td>8</td>\n",
       "      <td>...</td>\n",
       "      <td>0</td>\n",
       "      <td>2</td>\n",
       "      <td>1</td>\n",
       "      <td>0</td>\n",
       "      <td>0</td>\n",
       "      <td>0</td>\n",
       "      <td>0</td>\n",
       "      <td>0</td>\n",
       "      <td>1</td>\n",
       "      <td>0</td>\n",
       "    </tr>\n",
       "  </tbody>\n",
       "</table>\n",
       "<p>5 rows × 45 columns</p>\n",
       "</div>"
      ],
      "text/plain": [
       "   race  gender  age  admission_type_id  discharge_disposition_id  \\\n",
       "0     3       0    0                  5                        23   \n",
       "1     3       0    1                  0                         0   \n",
       "2     1       0    2                  0                         0   \n",
       "3     3       1    3                  0                         0   \n",
       "4     3       1    4                  0                         0   \n",
       "\n",
       "   admission_source_id  time_in_hospital  num_lab_procedures  num_procedures  \\\n",
       "0                    0                 1                  41               0   \n",
       "1                    6                 3                  59               0   \n",
       "2                    6                 2                  11               5   \n",
       "3                    6                 2                  44               1   \n",
       "4                    6                 1                  51               0   \n",
       "\n",
       "   num_medications  ...  citoglipton  insulin  glyburide-metformin  \\\n",
       "0                1  ...            0        1                    1   \n",
       "1               18  ...            0        3                    1   \n",
       "2               13  ...            0        1                    1   \n",
       "3               16  ...            0        3                    1   \n",
       "4                8  ...            0        2                    1   \n",
       "\n",
       "   glipizide-metformin  glimepiride-pioglitazone  metformin-rosiglitazone  \\\n",
       "0                    0                         0                        0   \n",
       "1                    0                         0                        0   \n",
       "2                    0                         0                        0   \n",
       "3                    0                         0                        0   \n",
       "4                    0                         0                        0   \n",
       "\n",
       "   metformin-pioglitazone  change  diabetesMed  readmitted  \n",
       "0                       0       1            0           0  \n",
       "1                       0       0            1           1  \n",
       "2                       0       1            1           0  \n",
       "3                       0       0            1           0  \n",
       "4                       0       0            1           0  \n",
       "\n",
       "[5 rows x 45 columns]"
      ]
     },
     "execution_count": 2,
     "metadata": {},
     "output_type": "execute_result"
    }
   ],
   "source": [
    "#Loading Data\n",
    "from sklearn.model_selection import train_test_split\n",
    "data=pd.read_csv('diabetic_data.csv')\n",
    "data.loc[data['readmitted']=='NO','readmitted']=0\n",
    "data.loc[data['readmitted']=='<30','readmitted']=1\n",
    "data.loc[data['readmitted']=='>30','readmitted']=1\n",
    "data['readmitted']=data['readmitted'].astype('int8')\n",
    "\n",
    "data=data.drop(columns=['encounter_id'])\n",
    "data=data.drop(columns=['patient_nbr'])\n",
    "data=data.drop(columns=['weight'])\n",
    "data=data.drop(columns=['payer_code'])\n",
    "data=data.drop(columns=['medical_specialty'])\n",
    "\n",
    "nCat=['age','race','gender','admission_type_id','discharge_disposition_id','admission_source_id','diag_1','diag_2','diag_3','max_glu_serum',\n",
    "     'A1Cresult','metformin','repaglinide','nateglinide','chlorpropamide','glimepiride','acetohexamide','glipizide',\n",
    "      'glyburide','tolbutamide','pioglitazone','rosiglitazone','acarbose','miglitol','troglitazone','tolazamide','insulin',\n",
    "      'glyburide-metformin','glipizide-metformin','glimepiride-pioglitazone','metformin-pioglitazone','change','diabetesMed',\n",
    "     'examide','citoglipton','metformin-rosiglitazone']\n",
    "\n",
    "data[nCat]=data[nCat].astype('category')\n",
    "data[nCat] = data[nCat].apply(lambda x: x.cat.codes)\n",
    "\n",
    "X=data.iloc[:,0:-1]\n",
    "y=data.iloc[:,-1]\n",
    "X_train, X_test, y_train, y_test = train_test_split(X, y, test_size=0.2, random_state=42)\n",
    "data.head()"
   ]
  },
  {
   "cell_type": "code",
   "execution_count": 3,
   "id": "722858cd",
   "metadata": {},
   "outputs": [],
   "source": [
    "api = TabularClassificationTask(\n",
    "    seed=42,\n",
    ")"
   ]
  },
  {
   "cell_type": "code",
   "execution_count": 4,
   "id": "91ea9966",
   "metadata": {},
   "outputs": [
    {
     "name": "stdout",
     "output_type": "stream",
     "text": [
      "[ERROR] [2022-12-02 20:48:31,999:Client-AutoPyTorch:Diabetes:42] Prediction for svm failed with run state StatusType.TIMEOUT.\n",
      "Additional info:\n",
      "error: Timeout\n",
      "configuration_origin: traditional\n"
     ]
    },
    {
     "data": {
      "text/plain": [
       "<autoPyTorch.api.tabular_classification.TabularClassificationTask at 0x7f319c81dd00>"
      ]
     },
     "execution_count": 4,
     "metadata": {},
     "output_type": "execute_result"
    }
   ],
   "source": [
    "api.search(\n",
    "    memory_limit=None,\n",
    "    X_train=X_train,\n",
    "    y_train=y_train,\n",
    "    X_test=X_test.copy(),\n",
    "    y_test=y_test.copy(),\n",
    "    dataset_name='Diabetes',\n",
    "    optimize_metric='accuracy',\n",
    "    total_walltime_limit=1200,\n",
    "    func_eval_time_limit_secs=180\n",
    "    \n",
    ")"
   ]
  },
  {
   "cell_type": "code",
   "execution_count": 5,
   "id": "b2e7268b",
   "metadata": {},
   "outputs": [
    {
     "name": "stdout",
     "output_type": "stream",
     "text": [
      "{'accuracy': 0.6491107399037044}\n",
      "autoPyTorch results:\n",
      "\tDataset name: Diabetes\n",
      "\tOptimisation Metric: accuracy\n",
      "\tBest validation score: 0.6509342663589667\n",
      "\tNumber of target algorithm runs: 13\n",
      "\tNumber of successful target algorithm runs: 6\n",
      "\tNumber of crashed target algorithm runs: 1\n",
      "\tNumber of target algorithms that exceeded the time limit: 6\n",
      "\tNumber of target algorithms that exceeded the memory limit: 0\n",
      "\n"
     ]
    }
   ],
   "source": [
    "y_pred = api.predict(X_test)\n",
    "score = api.score(y_pred, y_test)\n",
    "print(score)\n",
    "\n",
    "# Print statistics from search\n",
    "print(api.sprint_statistics())"
   ]
  },
  {
   "cell_type": "code",
   "execution_count": 6,
   "id": "e6f96dbb",
   "metadata": {},
   "outputs": [
    {
     "name": "stdout",
     "output_type": "stream",
     "text": [
      "[ERROR] [2022-12-02 21:12:57,202:Client-AutoPyTorch:RefitLogger:42] Prediction for lgb failed with run state StatusType.TIMEOUT.\n",
      "Additional info:\n",
      "error: Timeout\n",
      "configuration_origin: traditional\n",
      "[WARNING] [2022-12-02 21:12:57,202:Client-AutoPyTorch:RefitLogger:42] Not enough time to fit all machine learning models.Please consider increasing the run time to further improve performance.\n"
     ]
    },
    {
     "data": {
      "text/plain": [
       "<autoPyTorch.api.tabular_classification.TabularClassificationTask at 0x7f319c81dd00>"
      ]
     },
     "execution_count": 6,
     "metadata": {},
     "output_type": "execute_result"
    }
   ],
   "source": [
    "api.refit(\n",
    "    X_train=X_train,\n",
    "    y_train=y_train,\n",
    "    X_test=X_test,\n",
    "    y_test=y_test,\n",
    "    dataset_name=\"Diabetes\",\n",
    ")"
   ]
  },
  {
   "cell_type": "code",
   "execution_count": 7,
   "id": "57f6077f",
   "metadata": {},
   "outputs": [
    {
     "name": "stdout",
     "output_type": "stream",
     "text": [
      "{'accuracy': 0.6491107399037044}\n",
      "|    | Preprocessing                                                                                | Estimator                                                       |   Weight |\n",
      "|---:|:---------------------------------------------------------------------------------------------|:----------------------------------------------------------------|---------:|\n",
      "|  0 | None                                                                                         | LGBMLearner                                                     |     0.52 |\n",
      "|  1 | None                                                                                         | CBLearner                                                       |     0.38 |\n",
      "|  2 | SimpleImputer,Variance Threshold,NoCoalescer,NoEncoder,StandardScaler,NoFeaturePreprocessing | no embedding,ShapedMLPBackbone,FullyConnectedHead,nn.Sequential |     0.1  |\n"
     ]
    }
   ],
   "source": [
    "y_pred = api.predict(X_test)\n",
    "score = api.score(y_pred, y_test)\n",
    "print(score)\n",
    "# Print the final ensemble built by AutoPyTorch\n",
    "print(api.show_models())"
   ]
  },
  {
   "cell_type": "code",
   "execution_count": 8,
   "id": "51035bbd-804b-4924-afb5-5976017fd2b5",
   "metadata": {},
   "outputs": [
    {
     "name": "stdout",
     "output_type": "stream",
     "text": [
      "0    10952\n",
      "1     9402\n",
      "Name: readmitted, dtype: int64\n",
      "[WARNING] [2022-12-02 21:13:22,396:matplotlib.font_manager] findfont: Font family ['Times New Roman'] not found. Falling back to DejaVu Sans.\n",
      "[WARNING] [2022-12-02 21:13:22,409:matplotlib.font_manager] findfont: Font family ['Times New Roman'] not found. Falling back to DejaVu Sans.\n",
      "[WARNING] [2022-12-02 21:13:22,421:matplotlib.font_manager] findfont: Font family ['Times New Roman'] not found. Falling back to DejaVu Sans.\n",
      "[WARNING] [2022-12-02 21:13:22,472:matplotlib.font_manager] findfont: Font family ['Times New Roman'] not found. Falling back to DejaVu Sans.\n"
     ]
    },
    {
     "data": {
      "image/png": "[encoded data removed]",
      "text/plain": [
       "<Figure size 576x576 with 1 Axes>"
      ]
     },
     "metadata": {
      "needs_background": "light"
     },
     "output_type": "display_data"
    }
   ],
   "source": [
    "#Testing\n",
    "import matplotlib.pyplot as plt\n",
    "from sklearn.metrics import confusion_matrix\n",
    "import numpy as np\n",
    "#Getting confusion matrix\n",
    "tn,fp,fn,tp=confusion_matrix(y_test,y_pred).ravel()\n",
    "tot=tn+fp+fn+tp\n",
    "#Structure of plot\n",
    "cm=np.array(((1,0),(0,1)))\n",
    "fig,ax=plt.subplots(figsize=(8,8))\n",
    "plt.xlabel('Pred', fontsize=18)\n",
    "plt.ylabel('Test', fontsize=18)\n",
    "plt.title('Confusion Matrix', fontsize=21)\n",
    "ax.set_xticks(np.arange(2))\n",
    "ax.set_yticks(np.arange(2))\n",
    "ax.set_xticklabels(['1','0'])\n",
    "ax.set_yticklabels(['1','0'])\n",
    "ax.matshow(cm,cmap='RdYlGn',alpha=0.5)\n",
    "#Numeric vals\n",
    "ax.text(0,0,s=tp,va='center',ha='center',fontsize=18)\n",
    "ax.text(1,0,s=fp,va='center',ha='center',fontsize=18)\n",
    "ax.text(0,1,s=fn,va='center',ha='center',fontsize=18)\n",
    "ax.text(1,1,s=tn,va='center',ha='center',fontsize=18)\n",
    "#Labels\n",
    "ax.text(0,-.15,s=\"True Pos\",va='center',ha='center',fontsize=18)\n",
    "ax.text(1,-.15,s=\"False Pos\",va='center',ha='center',fontsize=18)\n",
    "ax.text(0,.85,s=\"False Neg\",va='center',ha='center',fontsize=18)\n",
    "ax.text(1,.85,s=\"True Neg\",va='center',ha='center',fontsize=18)\n",
    "#Percentages\n",
    "ax.text(0,.15,s=str(round((tp/tot)*100,2))+'%' ,va='center',ha='center',fontsize=18)\n",
    "ax.text(1,.15,s=str(round((fp/tot)*100,2))+'%' ,va='center',ha='center',fontsize=18)\n",
    "ax.text(0,1.15,s=str(round((fn/tot)*100,2))+'%' ,va='center',ha='center',fontsize=18)\n",
    "ax.text(1,1.15,s=str(round((tn/tot)*100,2))+'%' ,va='center',ha='center',fontsize=18)\n",
    "#Result overview\n",
    "acc=(tp+tn)/(tp+tn+fp+fn)\n",
    "pre=(tp)/(tp+fp)\n",
    "rec=(tp)/(tp+fn)\n",
    "ax.text(1.6,-.2,\"Accuracy: \"+str(round((acc)*100 ,4))+'%',fontsize=20)\n",
    "ax.text(1.6,0,\"Precision: \"+str(round((pre)*100 ,4))+'%',fontsize=20)\n",
    "ax.text(1.6,.2,\"Recall: \"+str(round((rec)*100 ,4))+'%',fontsize=20)\n",
    "ax.text(1.6,.4,\"F1: \"+str(round(( 2*((pre*rec)/(pre+rec)) )*100 ,4))+'%',fontsize=20)\n",
    "c=y_test.value_counts()\n",
    "print(c)\n",
    "t1=c[1]\n",
    "t0=c[0]\n",
    "ax.text(1.6,.8,\"Test composition:\",fontsize=20)\n",
    "ax.text(1.6,1,\"1s: \"+str(t1)+\" \"+str(round((t1/(t1+t0))*100 ,2))+'%',fontsize=20)\n",
    "ax.text(1.6,1.2,\"0s: \"+str(t0)+\" \"+str(round((t0/(t1+t0))*100 ,2))+'%',fontsize=20)\n",
    "del acc,ax,cm,fig,fn,fp,pre,rec,tn,tot,tp\n",
    "plt.show()"
   ]
  },
  {
   "cell_type": "code",
   "execution_count": null,
   "id": "2ab6cb85-ea85-476a-be4e-6399c35ceaf7",
   "metadata": {},
   "outputs": [],
   "source": []
  }
 ],
 "metadata": {
  "kernelspec": {
   "display_name": "Python 3 (ipykernel)",
   "language": "python",
   "name": "python3"
  },
  "language_info": {
   "codemirror_mode": {
    "name": "ipython",
    "version": 3
   },
   "file_extension": ".py",
   "mimetype": "text/x-python",
   "name": "python",
   "nbconvert_exporter": "python",
   "pygments_lexer": "ipython3",
   "version": "3.9.12"
  },
  "varInspector": {
   "cols": {
    "lenName": 16,
    "lenType": 16,
    "lenVar": 40
   },
   "kernels_config": {
    "python": {
     "delete_cmd_postfix": "",
     "delete_cmd_prefix": "del ",
     "library": "var_list.py",
     "varRefreshCmd": "print(var_dic_list())"
    },
    "r": {
     "delete_cmd_postfix": ") ",
     "delete_cmd_prefix": "rm(",
     "library": "var_list.r",
     "varRefreshCmd": "cat(var_dic_list()) "
    }
   },
   "types_to_exclude": [
    "module",
    "function",
    "builtin_function_or_method",
    "instance",
    "_Feature"
   ],
   "window_display": false
  }
 },
 "nbformat": 4,
 "nbformat_minor": 5
}
