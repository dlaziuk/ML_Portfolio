{
 "cells": [
  {
   "cell_type": "code",
   "execution_count": null,
   "id": "ff343fff",
   "metadata": {},
   "outputs": [],
   "source": [
    "#\n",
    "# David Laziuk\n",
    "# ANN with dropout and batch normalization\n",
    "# Using pytorch framework\n",
    "#\n",
    "#"
   ]
  },
  {
   "cell_type": "code",
   "execution_count": 1,
   "id": "97f811be",
   "metadata": {
    "ExecuteTime": {
     "end_time": "2022-12-04T20:17:29.820543Z",
     "start_time": "2022-12-04T20:17:24.129278Z"
    }
   },
   "outputs": [],
   "source": [
    "#Imports\n",
    "import math\n",
    "import numpy as np\n",
    "import pandas as pd\n",
    "import matplotlib.pyplot as plt\n",
    "\n",
    "from sklearn.model_selection import train_test_split\n",
    "from sklearn.metrics import confusion_matrix, classification_report\n",
    "from sklearn.preprocessing import StandardScaler\n",
    "\n",
    "import torch\n",
    "import torch.nn as nn\n",
    "import torch.optim as optim\n",
    "from torch.utils.data import Dataset, DataLoader"
   ]
  },
  {
   "cell_type": "code",
   "execution_count": 2,
   "id": "25501da8",
   "metadata": {
    "ExecuteTime": {
     "end_time": "2022-12-04T20:17:31.075781Z",
     "start_time": "2022-12-04T20:17:29.823597Z"
    }
   },
   "outputs": [
    {
     "data": {
      "text/html": [
       "<div>\n",
       "<style scoped>\n",
       "    .dataframe tbody tr th:only-of-type {\n",
       "        vertical-align: middle;\n",
       "    }\n",
       "\n",
       "    .dataframe tbody tr th {\n",
       "        vertical-align: top;\n",
       "    }\n",
       "\n",
       "    .dataframe thead th {\n",
       "        text-align: right;\n",
       "    }\n",
       "</style>\n",
       "<table border=\"1\" class=\"dataframe\">\n",
       "  <thead>\n",
       "    <tr style=\"text-align: right;\">\n",
       "      <th></th>\n",
       "      <th>race_0</th>\n",
       "      <th>race_1</th>\n",
       "      <th>race_2</th>\n",
       "      <th>gender_0</th>\n",
       "      <th>gender_1</th>\n",
       "      <th>age</th>\n",
       "      <th>admission_type_id_0</th>\n",
       "      <th>admission_type_id_1</th>\n",
       "      <th>admission_type_id_2</th>\n",
       "      <th>admission_type_id_3</th>\n",
       "      <th>...</th>\n",
       "      <th>glipizide-metformin_1</th>\n",
       "      <th>glimepiride-pioglitazone_0</th>\n",
       "      <th>glimepiride-pioglitazone_1</th>\n",
       "      <th>metformin-pioglitazone_0</th>\n",
       "      <th>metformin-pioglitazone_1</th>\n",
       "      <th>change_0</th>\n",
       "      <th>change_1</th>\n",
       "      <th>diabetesMed_0</th>\n",
       "      <th>diabetesMed_1</th>\n",
       "      <th>readmitted</th>\n",
       "    </tr>\n",
       "  </thead>\n",
       "  <tbody>\n",
       "    <tr>\n",
       "      <th>0</th>\n",
       "      <td>0.0</td>\n",
       "      <td>0.0</td>\n",
       "      <td>1.0</td>\n",
       "      <td>0.0</td>\n",
       "      <td>1.0</td>\n",
       "      <td>0.111111</td>\n",
       "      <td>0.0</td>\n",
       "      <td>0.0</td>\n",
       "      <td>0.0</td>\n",
       "      <td>1.0</td>\n",
       "      <td>...</td>\n",
       "      <td>1.0</td>\n",
       "      <td>0.0</td>\n",
       "      <td>1.0</td>\n",
       "      <td>0.0</td>\n",
       "      <td>1.0</td>\n",
       "      <td>0.0</td>\n",
       "      <td>1.0</td>\n",
       "      <td>0.0</td>\n",
       "      <td>1.0</td>\n",
       "      <td>1</td>\n",
       "    </tr>\n",
       "    <tr>\n",
       "      <th>1</th>\n",
       "      <td>0.0</td>\n",
       "      <td>1.0</td>\n",
       "      <td>0.0</td>\n",
       "      <td>0.0</td>\n",
       "      <td>1.0</td>\n",
       "      <td>0.222222</td>\n",
       "      <td>0.0</td>\n",
       "      <td>0.0</td>\n",
       "      <td>0.0</td>\n",
       "      <td>1.0</td>\n",
       "      <td>...</td>\n",
       "      <td>1.0</td>\n",
       "      <td>0.0</td>\n",
       "      <td>1.0</td>\n",
       "      <td>0.0</td>\n",
       "      <td>1.0</td>\n",
       "      <td>1.0</td>\n",
       "      <td>0.0</td>\n",
       "      <td>0.0</td>\n",
       "      <td>1.0</td>\n",
       "      <td>0</td>\n",
       "    </tr>\n",
       "    <tr>\n",
       "      <th>2</th>\n",
       "      <td>0.0</td>\n",
       "      <td>0.0</td>\n",
       "      <td>1.0</td>\n",
       "      <td>1.0</td>\n",
       "      <td>0.0</td>\n",
       "      <td>0.333333</td>\n",
       "      <td>0.0</td>\n",
       "      <td>0.0</td>\n",
       "      <td>0.0</td>\n",
       "      <td>1.0</td>\n",
       "      <td>...</td>\n",
       "      <td>1.0</td>\n",
       "      <td>0.0</td>\n",
       "      <td>1.0</td>\n",
       "      <td>0.0</td>\n",
       "      <td>1.0</td>\n",
       "      <td>0.0</td>\n",
       "      <td>1.0</td>\n",
       "      <td>0.0</td>\n",
       "      <td>1.0</td>\n",
       "      <td>0</td>\n",
       "    </tr>\n",
       "    <tr>\n",
       "      <th>3</th>\n",
       "      <td>0.0</td>\n",
       "      <td>0.0</td>\n",
       "      <td>1.0</td>\n",
       "      <td>1.0</td>\n",
       "      <td>0.0</td>\n",
       "      <td>0.444444</td>\n",
       "      <td>0.0</td>\n",
       "      <td>0.0</td>\n",
       "      <td>0.0</td>\n",
       "      <td>1.0</td>\n",
       "      <td>...</td>\n",
       "      <td>1.0</td>\n",
       "      <td>0.0</td>\n",
       "      <td>1.0</td>\n",
       "      <td>0.0</td>\n",
       "      <td>1.0</td>\n",
       "      <td>0.0</td>\n",
       "      <td>1.0</td>\n",
       "      <td>0.0</td>\n",
       "      <td>1.0</td>\n",
       "      <td>0</td>\n",
       "    </tr>\n",
       "    <tr>\n",
       "      <th>4</th>\n",
       "      <td>0.0</td>\n",
       "      <td>0.0</td>\n",
       "      <td>1.0</td>\n",
       "      <td>1.0</td>\n",
       "      <td>0.0</td>\n",
       "      <td>0.555556</td>\n",
       "      <td>0.0</td>\n",
       "      <td>0.0</td>\n",
       "      <td>1.0</td>\n",
       "      <td>0.0</td>\n",
       "      <td>...</td>\n",
       "      <td>1.0</td>\n",
       "      <td>0.0</td>\n",
       "      <td>1.0</td>\n",
       "      <td>0.0</td>\n",
       "      <td>1.0</td>\n",
       "      <td>1.0</td>\n",
       "      <td>0.0</td>\n",
       "      <td>0.0</td>\n",
       "      <td>1.0</td>\n",
       "      <td>1</td>\n",
       "    </tr>\n",
       "  </tbody>\n",
       "</table>\n",
       "<p>5 rows × 122 columns</p>\n",
       "</div>"
      ],
      "text/plain": [
       "   race_0  race_1  race_2  gender_0  gender_1       age  admission_type_id_0  \\\n",
       "0     0.0     0.0     1.0       0.0       1.0  0.111111                  0.0   \n",
       "1     0.0     1.0     0.0       0.0       1.0  0.222222                  0.0   \n",
       "2     0.0     0.0     1.0       1.0       0.0  0.333333                  0.0   \n",
       "3     0.0     0.0     1.0       1.0       0.0  0.444444                  0.0   \n",
       "4     0.0     0.0     1.0       1.0       0.0  0.555556                  0.0   \n",
       "\n",
       "   admission_type_id_1  admission_type_id_2  admission_type_id_3  ...  \\\n",
       "0                  0.0                  0.0                  1.0  ...   \n",
       "1                  0.0                  0.0                  1.0  ...   \n",
       "2                  0.0                  0.0                  1.0  ...   \n",
       "3                  0.0                  0.0                  1.0  ...   \n",
       "4                  0.0                  1.0                  0.0  ...   \n",
       "\n",
       "   glipizide-metformin_1  glimepiride-pioglitazone_0  \\\n",
       "0                    1.0                         0.0   \n",
       "1                    1.0                         0.0   \n",
       "2                    1.0                         0.0   \n",
       "3                    1.0                         0.0   \n",
       "4                    1.0                         0.0   \n",
       "\n",
       "   glimepiride-pioglitazone_1  metformin-pioglitazone_0  \\\n",
       "0                         1.0                       0.0   \n",
       "1                         1.0                       0.0   \n",
       "2                         1.0                       0.0   \n",
       "3                         1.0                       0.0   \n",
       "4                         1.0                       0.0   \n",
       "\n",
       "   metformin-pioglitazone_1  change_0  change_1  diabetesMed_0  diabetesMed_1  \\\n",
       "0                       1.0       0.0       1.0            0.0            1.0   \n",
       "1                       1.0       1.0       0.0            0.0            1.0   \n",
       "2                       1.0       0.0       1.0            0.0            1.0   \n",
       "3                       1.0       0.0       1.0            0.0            1.0   \n",
       "4                       1.0       1.0       0.0            0.0            1.0   \n",
       "\n",
       "   readmitted  \n",
       "0           1  \n",
       "1           0  \n",
       "2           0  \n",
       "3           0  \n",
       "4           1  \n",
       "\n",
       "[5 rows x 122 columns]"
      ]
     },
     "execution_count": 2,
     "metadata": {},
     "output_type": "execute_result"
    }
   ],
   "source": [
    "#Loading Data\n",
    "data=pd.read_csv('FinalData.csv')\n",
    "data['readmitted'] = data['readmitted'].astype('int64')\n",
    "X=data.iloc[:,0:-1]\n",
    "y=data.iloc[:,-1]\n",
    "data.head()"
   ]
  },
  {
   "cell_type": "code",
   "execution_count": 3,
   "id": "75fb81ae",
   "metadata": {
    "ExecuteTime": {
     "end_time": "2022-12-04T20:17:31.207330Z",
     "start_time": "2022-12-04T20:17:31.078209Z"
    }
   },
   "outputs": [],
   "source": [
    "X_train, X_test, y_train, y_test = train_test_split(X, y, test_size=0.3,random_state=42)\n",
    "X_train=X_train.to_numpy() #Also changes dtype to ndarray which is necassary for .FloatTensor\n",
    "X_test=X_test.to_numpy()\n",
    "EPOCHS =100\n",
    "BATCH_SIZE = 16\n",
    "LEARNING_RATE = 0.001"
   ]
  },
  {
   "cell_type": "code",
   "execution_count": 4,
   "id": "11a5b111",
   "metadata": {
    "ExecuteTime": {
     "end_time": "2022-12-04T20:17:31.253145Z",
     "start_time": "2022-12-04T20:17:31.210974Z"
    }
   },
   "outputs": [],
   "source": [
    "## train data\n",
    "class TrainData(Dataset):\n",
    "    def __init__(self, X_data, y_data):\n",
    "        self.X_data = X_data\n",
    "        self.y_data = y_data\n",
    "        \n",
    "    def __getitem__(self, index):\n",
    "        return self.X_data[index], self.y_data[index]\n",
    "        \n",
    "    def __len__ (self):\n",
    "        return len(self.X_data)\n",
    "\n",
    "\n",
    "train_data=TrainData(torch.FloatTensor(X_train),torch.FloatTensor(y_train))\n",
    "## test data    \n",
    "class TestData(Dataset):\n",
    "    \n",
    "    def __init__(self, X_data):\n",
    "        self.X_data = X_data\n",
    "        \n",
    "    def __getitem__(self, index):\n",
    "        return self.X_data[index]\n",
    "        \n",
    "    def __len__ (self):\n",
    "        return len(self.X_data)\n",
    "\n",
    "test_data=TestData(torch.FloatTensor(X_test))"
   ]
  },
  {
   "cell_type": "code",
   "execution_count": 5,
   "id": "04015c80",
   "metadata": {
    "ExecuteTime": {
     "end_time": "2022-12-04T20:17:31.258758Z",
     "start_time": "2022-12-04T20:17:31.255261Z"
    }
   },
   "outputs": [],
   "source": [
    "train_loader = DataLoader(dataset=train_data, batch_size=BATCH_SIZE, shuffle=True)\n",
    "test_loader = DataLoader(dataset=test_data, batch_size=1)"
   ]
  },
  {
   "cell_type": "code",
   "execution_count": 6,
   "id": "6d3d2164",
   "metadata": {
    "ExecuteTime": {
     "end_time": "2022-12-04T20:17:31.268024Z",
     "start_time": "2022-12-04T20:17:31.260972Z"
    }
   },
   "outputs": [],
   "source": [
    "class BinaryClassification(nn.Module):\n",
    "    def __init__(self):\n",
    "        super(BinaryClassification, self).__init__()\n",
    "        # Number of input features is 121\n",
    "        self.layer_1 = nn.Linear(121,140) \n",
    "        self.layer_2 = nn.Linear(140,140)\n",
    "        self.layer_3 = nn.Linear(140,140)\n",
    "        self.layer_out = nn.Linear(140,1) \n",
    "        \n",
    "        self.relu = nn.ReLU()\n",
    "        self.dropout = nn.Dropout(p=0.5)\n",
    "        self.dropoutV=nn.Dropout(p=0.2)\n",
    "        self.batchnorm1 = nn.BatchNorm1d(140)\n",
    "        self.batchnorm2 = nn.BatchNorm1d(140)\n",
    "        self.batchnorm3 = nn.BatchNorm1d(140)\n",
    "    def forward(self, inputs):\n",
    "        x = self.dropoutV(inputs)\n",
    "        x = self.relu(self.layer_1(x))\n",
    "        x = self.batchnorm1(x)\n",
    "        x = self.dropout(x)\n",
    "        x = self.relu(self.layer_2(x))\n",
    "        x = self.batchnorm2(x)\n",
    "        x = self.dropout(x)\n",
    "        x = self.relu(self.layer_3(x))\n",
    "        x = self.batchnorm3(x)\n",
    "        x = self.dropout(x)\n",
    "        x = self.layer_out(x)\n",
    "        \n",
    "        return x"
   ]
  },
  {
   "cell_type": "code",
   "execution_count": 7,
   "id": "d1862446",
   "metadata": {
    "ExecuteTime": {
     "end_time": "2022-12-04T20:17:31.284252Z",
     "start_time": "2022-12-04T20:17:31.270520Z"
    }
   },
   "outputs": [
    {
     "name": "stdout",
     "output_type": "stream",
     "text": [
      "BinaryClassification(\n",
      "  (layer_1): Linear(in_features=121, out_features=140, bias=True)\n",
      "  (layer_2): Linear(in_features=140, out_features=140, bias=True)\n",
      "  (layer_3): Linear(in_features=140, out_features=140, bias=True)\n",
      "  (layer_out): Linear(in_features=140, out_features=1, bias=True)\n",
      "  (relu): ReLU()\n",
      "  (dropout): Dropout(p=0.5, inplace=False)\n",
      "  (dropoutV): Dropout(p=0.2, inplace=False)\n",
      "  (batchnorm1): BatchNorm1d(140, eps=1e-05, momentum=0.1, affine=True, track_running_stats=True)\n",
      "  (batchnorm2): BatchNorm1d(140, eps=1e-05, momentum=0.1, affine=True, track_running_stats=True)\n",
      "  (batchnorm3): BatchNorm1d(140, eps=1e-05, momentum=0.1, affine=True, track_running_stats=True)\n",
      ")\n"
     ]
    }
   ],
   "source": [
    "device = torch.device('cpu')\n",
    "model = BinaryClassification()\n",
    "model.to(device)\n",
    "print(model)\n",
    "criterion = nn.BCEWithLogitsLoss()\n",
    "optimizer = optim.Adam(model.parameters(), lr=LEARNING_RATE)"
   ]
  },
  {
   "cell_type": "code",
   "execution_count": 8,
   "id": "077a7c1e",
   "metadata": {
    "ExecuteTime": {
     "end_time": "2022-12-04T20:17:31.290756Z",
     "start_time": "2022-12-04T20:17:31.286672Z"
    }
   },
   "outputs": [],
   "source": [
    "def binary_acc(y_pred, y_test):\n",
    "    y_pred_tag = torch.round(torch.sigmoid(y_pred))\n",
    "    correct_results_sum = (y_pred_tag == y_test).sum().float()\n",
    "    acc = correct_results_sum/y_test.shape[0]\n",
    "    acc = torch.round(acc * 100)\n",
    "    return acc"
   ]
  },
  {
   "cell_type": "code",
   "execution_count": 9,
   "id": "d6fbc9d6",
   "metadata": {
    "ExecuteTime": {
     "end_time": "2022-12-04T20:37:00.506654Z",
     "start_time": "2022-12-04T20:17:31.293252Z"
    }
   },
   "outputs": [
    {
     "name": "stdout",
     "output_type": "stream",
     "text": [
      "Epoch 001: | Loss: 0.69057 | Acc: 54.813\n",
      "Epoch 002: | Loss: 0.67589 | Acc: 57.646\n",
      "Epoch 003: | Loss: 0.67195 | Acc: 58.391\n",
      "Epoch 004: | Loss: 0.66920 | Acc: 58.947\n",
      "Epoch 005: | Loss: 0.66670 | Acc: 59.334\n",
      "Epoch 006: | Loss: 0.66674 | Acc: 59.439\n",
      "Epoch 007: | Loss: 0.66616 | Acc: 59.512\n",
      "Epoch 008: | Loss: 0.66453 | Acc: 59.755\n",
      "Epoch 009: | Loss: 0.66362 | Acc: 60.000\n",
      "Epoch 010: | Loss: 0.66401 | Acc: 59.798\n",
      "Epoch 011: | Loss: 0.66374 | Acc: 60.057\n",
      "Epoch 012: | Loss: 0.66262 | Acc: 59.875\n",
      "Epoch 013: | Loss: 0.66287 | Acc: 60.026\n",
      "Epoch 014: | Loss: 0.66148 | Acc: 60.316\n",
      "Epoch 015: | Loss: 0.66259 | Acc: 60.219\n",
      "Epoch 016: | Loss: 0.66237 | Acc: 60.243\n",
      "Epoch 017: | Loss: 0.66269 | Acc: 60.055\n",
      "Epoch 018: | Loss: 0.66182 | Acc: 60.307\n",
      "Epoch 019: | Loss: 0.66276 | Acc: 60.106\n",
      "Epoch 020: | Loss: 0.66155 | Acc: 60.133\n",
      "Epoch 021: | Loss: 0.66084 | Acc: 60.359\n",
      "Epoch 022: | Loss: 0.66057 | Acc: 60.436\n",
      "Epoch 023: | Loss: 0.66117 | Acc: 60.478\n",
      "Epoch 024: | Loss: 0.66001 | Acc: 60.461\n",
      "Epoch 025: | Loss: 0.66084 | Acc: 60.305\n",
      "Epoch 026: | Loss: 0.66124 | Acc: 60.280\n",
      "Epoch 027: | Loss: 0.66035 | Acc: 60.436\n",
      "Epoch 028: | Loss: 0.66036 | Acc: 60.480\n",
      "Epoch 029: | Loss: 0.66035 | Acc: 60.537\n",
      "Epoch 030: | Loss: 0.66031 | Acc: 60.525\n",
      "Epoch 031: | Loss: 0.66045 | Acc: 60.346\n",
      "Epoch 032: | Loss: 0.66060 | Acc: 60.322\n",
      "Epoch 033: | Loss: 0.66127 | Acc: 60.292\n",
      "Epoch 034: | Loss: 0.66106 | Acc: 60.236\n",
      "Epoch 035: | Loss: 0.66008 | Acc: 60.497\n",
      "Epoch 036: | Loss: 0.66051 | Acc: 60.410\n",
      "Epoch 037: | Loss: 0.65962 | Acc: 60.606\n",
      "Epoch 038: | Loss: 0.66064 | Acc: 60.370\n",
      "Epoch 039: | Loss: 0.66084 | Acc: 60.532\n",
      "Epoch 040: | Loss: 0.65921 | Acc: 60.545\n",
      "Epoch 041: | Loss: 0.66043 | Acc: 60.206\n",
      "Epoch 042: | Loss: 0.65930 | Acc: 60.681\n",
      "Epoch 043: | Loss: 0.65853 | Acc: 60.906\n",
      "Epoch 044: | Loss: 0.65904 | Acc: 60.607\n",
      "Epoch 045: | Loss: 0.65976 | Acc: 60.674\n",
      "Epoch 046: | Loss: 0.65961 | Acc: 60.450\n",
      "Epoch 047: | Loss: 0.65927 | Acc: 60.619\n",
      "Epoch 048: | Loss: 0.65941 | Acc: 60.570\n",
      "Epoch 049: | Loss: 0.65894 | Acc: 60.709\n",
      "Epoch 050: | Loss: 0.65892 | Acc: 60.679\n",
      "Epoch 051: | Loss: 0.65907 | Acc: 60.523\n",
      "Epoch 052: | Loss: 0.65809 | Acc: 60.761\n",
      "Epoch 053: | Loss: 0.65893 | Acc: 60.588\n",
      "Epoch 054: | Loss: 0.65969 | Acc: 60.515\n",
      "Epoch 055: | Loss: 0.65696 | Acc: 60.914\n",
      "Epoch 056: | Loss: 0.65880 | Acc: 60.624\n",
      "Epoch 057: | Loss: 0.65818 | Acc: 60.703\n",
      "Epoch 058: | Loss: 0.65902 | Acc: 60.475\n",
      "Epoch 059: | Loss: 0.65896 | Acc: 60.657\n",
      "Epoch 060: | Loss: 0.65793 | Acc: 60.719\n",
      "Epoch 061: | Loss: 0.65823 | Acc: 60.768\n",
      "Epoch 062: | Loss: 0.65721 | Acc: 60.769\n",
      "Epoch 063: | Loss: 0.65854 | Acc: 60.740\n",
      "Epoch 064: | Loss: 0.65919 | Acc: 60.458\n",
      "Epoch 065: | Loss: 0.65742 | Acc: 60.645\n",
      "Epoch 066: | Loss: 0.65828 | Acc: 60.879\n",
      "Epoch 067: | Loss: 0.65774 | Acc: 60.810\n",
      "Epoch 068: | Loss: 0.65789 | Acc: 60.772\n",
      "Epoch 069: | Loss: 0.65828 | Acc: 60.637\n",
      "Epoch 070: | Loss: 0.65798 | Acc: 60.567\n",
      "Epoch 071: | Loss: 0.65727 | Acc: 60.476\n",
      "Epoch 072: | Loss: 0.65735 | Acc: 60.746\n",
      "Epoch 073: | Loss: 0.65803 | Acc: 60.648\n",
      "Epoch 074: | Loss: 0.65805 | Acc: 60.531\n",
      "Epoch 075: | Loss: 0.65748 | Acc: 60.826\n",
      "Epoch 076: | Loss: 0.65737 | Acc: 60.858\n",
      "Epoch 077: | Loss: 0.65682 | Acc: 60.934\n",
      "Epoch 078: | Loss: 0.65795 | Acc: 60.822\n",
      "Epoch 079: | Loss: 0.65680 | Acc: 60.911\n",
      "Epoch 080: | Loss: 0.65791 | Acc: 60.858\n",
      "Epoch 081: | Loss: 0.65689 | Acc: 60.873\n",
      "Epoch 082: | Loss: 0.65837 | Acc: 60.764\n",
      "Epoch 083: | Loss: 0.65645 | Acc: 60.942\n",
      "Epoch 084: | Loss: 0.65746 | Acc: 60.866\n",
      "Epoch 085: | Loss: 0.65771 | Acc: 60.819\n",
      "Epoch 086: | Loss: 0.65816 | Acc: 60.710\n",
      "Epoch 087: | Loss: 0.65692 | Acc: 60.669\n",
      "Epoch 088: | Loss: 0.65753 | Acc: 60.952\n",
      "Epoch 089: | Loss: 0.65742 | Acc: 60.883\n",
      "Epoch 090: | Loss: 0.65643 | Acc: 60.832\n",
      "Epoch 091: | Loss: 0.65782 | Acc: 60.779\n",
      "Epoch 092: | Loss: 0.65732 | Acc: 60.797\n",
      "Epoch 093: | Loss: 0.65756 | Acc: 61.015\n",
      "Epoch 094: | Loss: 0.65681 | Acc: 60.901\n",
      "Epoch 095: | Loss: 0.65679 | Acc: 60.611\n",
      "Epoch 096: | Loss: 0.65821 | Acc: 60.383\n",
      "Epoch 097: | Loss: 0.65775 | Acc: 60.586\n",
      "Epoch 098: | Loss: 0.65688 | Acc: 60.962\n",
      "Epoch 099: | Loss: 0.65616 | Acc: 60.808\n",
      "Epoch 100: | Loss: 0.65599 | Acc: 60.851\n"
     ]
    }
   ],
   "source": [
    "model.train()\n",
    "for e in range(1, EPOCHS+1):\n",
    "    epoch_loss = 0\n",
    "    epoch_acc = 0\n",
    "    for X_batch, y_batch in train_loader:\n",
    "        X_batch, y_batch = X_batch.to(device), y_batch.to(device)\n",
    "        optimizer.zero_grad()\n",
    "        \n",
    "        y_pred = model(X_batch)\n",
    "        \n",
    "        loss = criterion(y_pred, y_batch.unsqueeze(1))\n",
    "        acc = binary_acc(y_pred, y_batch.unsqueeze(1))\n",
    "        \n",
    "        loss.backward()\n",
    "        optimizer.step()\n",
    "        \n",
    "        epoch_loss += loss.item()\n",
    "        epoch_acc += acc.item()\n",
    "        \n",
    "\n",
    "    print(f'Epoch {e+0:03}: | Loss: {epoch_loss/len(train_loader):.5f} | Acc: {epoch_acc/len(train_loader):.3f}')"
   ]
  },
  {
   "cell_type": "code",
   "execution_count": 10,
   "id": "dd974cc1-3643-46c7-8c48-5adfcdb29529",
   "metadata": {
    "ExecuteTime": {
     "end_time": "2022-12-04T20:37:00.526228Z",
     "start_time": "2022-12-04T20:37:00.518870Z"
    }
   },
   "outputs": [
    {
     "name": "stdout",
     "output_type": "stream",
     "text": [
      "Epoch 100: | Loss: 0.65599 | Acc: 60.851\n"
     ]
    }
   ],
   "source": [
    "print(f'Epoch {e+0:03}: | Loss: {epoch_loss/len(train_loader):.5f} | Acc: {epoch_acc/len(train_loader):.3f}')"
   ]
  },
  {
   "cell_type": "code",
   "execution_count": 11,
   "id": "0bb2da55",
   "metadata": {
    "ExecuteTime": {
     "end_time": "2022-12-04T20:37:09.662507Z",
     "start_time": "2022-12-04T20:37:00.528690Z"
    }
   },
   "outputs": [],
   "source": [
    "y_pred_list = []\n",
    "model.eval()\n",
    "with torch.no_grad():\n",
    "    for X_batch in test_loader:\n",
    "        X_batch = X_batch.to(device)\n",
    "        y_test_pred = model(X_batch)\n",
    "        y_test_pred = torch.sigmoid(y_test_pred)\n",
    "        y_pred_tag = torch.round(y_test_pred)\n",
    "        y_pred_list.append(y_pred_tag.cpu().numpy())\n",
    "\n",
    "y_pred_list = [a.squeeze().tolist() for a in y_pred_list]"
   ]
  },
  {
   "cell_type": "code",
   "execution_count": 12,
   "id": "1ba6d13d",
   "metadata": {
    "ExecuteTime": {
     "end_time": "2022-12-04T20:37:09.700463Z",
     "start_time": "2022-12-04T20:37:09.665378Z"
    }
   },
   "outputs": [
    {
     "data": {
      "text/plain": [
       "array([[11796,  3826],\n",
       "       [ 7074,  6720]])"
      ]
     },
     "execution_count": 12,
     "metadata": {},
     "output_type": "execute_result"
    }
   ],
   "source": [
    "confusion_matrix(y_test, y_pred_list)"
   ]
  },
  {
   "cell_type": "code",
   "execution_count": 13,
   "id": "e2c4072d",
   "metadata": {
    "ExecuteTime": {
     "end_time": "2022-12-04T20:37:09.805612Z",
     "start_time": "2022-12-04T20:37:09.705035Z"
    }
   },
   "outputs": [
    {
     "name": "stdout",
     "output_type": "stream",
     "text": [
      "              precision    recall  f1-score   support\n",
      "\n",
      "           0       0.63      0.76      0.68     15622\n",
      "           1       0.64      0.49      0.55     13794\n",
      "\n",
      "    accuracy                           0.63     29416\n",
      "   macro avg       0.63      0.62      0.62     29416\n",
      "weighted avg       0.63      0.63      0.62     29416\n",
      "\n"
     ]
    }
   ],
   "source": [
    "print(classification_report(y_test, y_pred_list))"
   ]
  },
  {
   "cell_type": "code",
   "execution_count": 14,
   "id": "97b91107-ffe2-41f8-824f-acdeed187961",
   "metadata": {
    "ExecuteTime": {
     "end_time": "2022-12-04T20:37:10.219158Z",
     "start_time": "2022-12-04T20:37:09.808710Z"
    }
   },
   "outputs": [
    {
     "name": "stdout",
     "output_type": "stream",
     "text": [
      "0    15622\n",
      "1    13794\n",
      "Name: readmitted, dtype: int64\n"
     ]
    },
    {
     "data": {
      "image/png": "[encoded data removed]",
      "text/plain": [
       "<Figure size 800x800 with 1 Axes>"
      ]
     },
     "metadata": {},
     "output_type": "display_data"
    }
   ],
   "source": [
    "#Testing\n",
    "import matplotlib.pyplot as plt\n",
    "from sklearn.metrics import confusion_matrix\n",
    "#Getting confusion matrix\n",
    "tn,fp,fn,tp=confusion_matrix(y_test,y_pred_list).ravel()\n",
    "tot=tn+fp+fn+tp\n",
    "#Structure of plot\n",
    "cm=np.array(((1,0),(0,1)))\n",
    "fig,ax=plt.subplots(figsize=(8,8))\n",
    "plt.xlabel('Pred', fontsize=18)\n",
    "plt.ylabel('Test', fontsize=18)\n",
    "plt.title('Confusion Matrix', fontsize=21)\n",
    "ax.set_xticks(np.arange(2))\n",
    "ax.set_yticks(np.arange(2))\n",
    "ax.set_xticklabels(['1','0'])\n",
    "ax.set_yticklabels(['1','0'])\n",
    "ax.matshow(cm,cmap='RdYlGn',alpha=0.5)\n",
    "#Numeric vals\n",
    "ax.text(0,0,s=tp,va='center',ha='center',fontsize=18)\n",
    "ax.text(1,0,s=fp,va='center',ha='center',fontsize=18)\n",
    "ax.text(0,1,s=fn,va='center',ha='center',fontsize=18)\n",
    "ax.text(1,1,s=tn,va='center',ha='center',fontsize=18)\n",
    "#Labels\n",
    "ax.text(0,-.15,s=\"True Pos\",va='center',ha='center',fontsize=18)\n",
    "ax.text(1,-.15,s=\"False Pos\",va='center',ha='center',fontsize=18)\n",
    "ax.text(0,.85,s=\"False Neg\",va='center',ha='center',fontsize=18)\n",
    "ax.text(1,.85,s=\"True Neg\",va='center',ha='center',fontsize=18)\n",
    "#Percentages\n",
    "ax.text(0,.15,s=str(round((tp/tot)*100,2))+'%' ,va='center',ha='center',fontsize=18)\n",
    "ax.text(1,.15,s=str(round((fp/tot)*100,2))+'%' ,va='center',ha='center',fontsize=18)\n",
    "ax.text(0,1.15,s=str(round((fn/tot)*100,2))+'%' ,va='center',ha='center',fontsize=18)\n",
    "ax.text(1,1.15,s=str(round((tn/tot)*100,2))+'%' ,va='center',ha='center',fontsize=18)\n",
    "#Result overview\n",
    "acc=(tp+tn)/(tp+tn+fp+fn)\n",
    "pre=(tp)/(tp+fp)\n",
    "rec=(tp)/(tp+fn)\n",
    "ax.text(1.6,-.2,\"Accuracy: \"+str(round((acc)*100 ,4))+'%',fontsize=20)\n",
    "ax.text(1.6,0,\"Precision: \"+str(round((pre)*100 ,4))+'%',fontsize=20)\n",
    "ax.text(1.6,.2,\"Recall: \"+str(round((rec)*100 ,4))+'%',fontsize=20)\n",
    "ax.text(1.6,.4,\"F1: \"+str(round(( 2*((pre*rec)/(pre+rec)) )*100 ,4))+'%',fontsize=20)\n",
    "c=y_test.value_counts()\n",
    "print(c)\n",
    "t1=c[1]\n",
    "t0=c[0]\n",
    "ax.text(1.6,.8,\"Test composition:\",fontsize=20)\n",
    "ax.text(1.6,1,\"1s: \"+str(t1)+\" \"+str(round((t1/(t1+t0))*100 ,2))+'%',fontsize=20)\n",
    "ax.text(1.6,1.2,\"0s: \"+str(t0)+\" \"+str(round((t0/(t1+t0))*100 ,2))+'%',fontsize=20)\n",
    "del acc,ax,cm,fig,fn,fp,pre,rec,tn,tot,tp\n",
    "plt.show()"
   ]
  },
  {
   "cell_type": "code",
   "execution_count": null,
   "id": "830ed526-1a93-4b98-ab07-87fac714f815",
   "metadata": {},
   "outputs": [],
   "source": []
  }
 ],
 "metadata": {
  "kernelspec": {
   "display_name": "Python 3 (ipykernel)",
   "language": "python",
   "name": "python3"
  },
  "language_info": {
   "codemirror_mode": {
    "name": "ipython",
    "version": 3
   },
   "file_extension": ".py",
   "mimetype": "text/x-python",
   "name": "python",
   "nbconvert_exporter": "python",
   "pygments_lexer": "ipython3",
   "version": "3.9.12"
  },
  "varInspector": {
   "cols": {
    "lenName": 16,
    "lenType": 16,
    "lenVar": 40
   },
   "kernels_config": {
    "python": {
     "delete_cmd_postfix": "",
     "delete_cmd_prefix": "del ",
     "library": "var_list.py",
     "varRefreshCmd": "print(var_dic_list())"
    },
    "r": {
     "delete_cmd_postfix": ") ",
     "delete_cmd_prefix": "rm(",
     "library": "var_list.r",
     "varRefreshCmd": "cat(var_dic_list()) "
    }
   },
   "position": {
    "height": "614px",
    "left": "2266px",
    "right": "20px",
    "top": "162px",
    "width": "800px"
   },
   "types_to_exclude": [
    "module",
    "function",
    "builtin_function_or_method",
    "instance",
    "_Feature"
   ],
   "window_display": true
  }
 },
 "nbformat": 4,
 "nbformat_minor": 5
}
